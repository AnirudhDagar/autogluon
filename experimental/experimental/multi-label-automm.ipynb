{
 "cells": [
  {
   "cell_type": "code",
   "execution_count": 1,
   "id": "006021b7-7d11-4356-97fc-f241694eab1f",
   "metadata": {},
   "outputs": [],
   "source": [
    "from autogluon.core.utils.loaders import load_zip\n",
    "import os\n",
    "\n",
    "download_dir = './ag_multimodal_tutorial'\n",
    "zip_file = 'https://automl-mm-bench.s3.amazonaws.com/petfinder_for_tutorial.zip'\n",
    "\n",
    "load_zip.unzip(zip_file, unzip_dir=download_dir)"
   ]
  },
  {
   "cell_type": "code",
   "execution_count": 2,
   "id": "2295a6fe-1b2d-4051-8ab7-a1b32772d808",
   "metadata": {},
   "outputs": [],
   "source": [
    "import pandas as pd\n",
    "\n",
    "dataset_path = f'{download_dir}/petfinder_for_tutorial'\n",
    "\n",
    "def invert_label(val):\n",
    "    if val==1:\n",
    "        return 0\n",
    "    elif val==0:\n",
    "        return 1\n",
    "    else:\n",
    "        return val\n",
    "\n",
    "train_data = pd.read_csv(f'{dataset_path}/train.csv', index_col=0)\n",
    "# train_data['AdoptionSpeed_Inv'] = train_data['AdoptionSpeed'].apply(invert_label)\n",
    "# train_data['final_label'] = train_data.apply(lambda row: [row['AdoptionSpeed'], row['AdoptionSpeed_Inv']], axis=1)\n",
    "# train_data = train_data.drop(columns=['AdoptionSpeed_Inv', 'AdoptionSpeed'])\n",
    "\n",
    "test_data = pd.read_csv(f'{dataset_path}/test.csv', index_col=0)\n",
    "# test_data['AdoptionSpeed_Inv'] = test_data['AdoptionSpeed'].apply(invert_label)\n",
    "# test_data['final_label'] = test_data.apply(lambda row: [row['AdoptionSpeed'], row['AdoptionSpeed_Inv']], axis=1)\n",
    "# test_data = test_data.drop(columns=['AdoptionSpeed_Inv', 'AdoptionSpeed'])\n",
    "\n",
    "# label_col = ['AdoptionSpeed', 'AdoptionSpeed_Inv']\n",
    "label_col = 'AdoptionSpeed'"
   ]
  },
  {
   "cell_type": "code",
   "execution_count": 3,
   "id": "7489e35e-bab7-490e-b30b-901c1f90cada",
   "metadata": {},
   "outputs": [],
   "source": [
    "image_col = 'Images'\n",
    "\n",
    "train_data[image_col] = train_data[image_col].apply(lambda ele: ele.split(';')[0])\n",
    "test_data[image_col] = test_data[image_col].apply(lambda ele: ele.split(';')[0])\n",
    "\n",
    "def path_expander(path, base_folder):\n",
    "    path_l = path.split(';')\n",
    "    return ';'.join([os.path.abspath(os.path.join(base_folder, path)) for path in path_l])\n",
    "\n",
    "train_data[image_col] = train_data[image_col].apply(lambda ele: path_expander(ele, base_folder=dataset_path))\n",
    "test_data[image_col] = test_data[image_col].apply(lambda ele: path_expander(ele, base_folder=dataset_path))"
   ]
  },
  {
   "cell_type": "code",
   "execution_count": 4,
   "id": "5490181c-5214-42e5-80df-322654f26ba1",
   "metadata": {},
   "outputs": [
    {
     "data": {
      "image/jpeg": "[encoded data removed]",
      "text/plain": [
       "<IPython.core.display.Image object>"
      ]
     },
     "metadata": {},
     "output_type": "display_data"
    },
    {
     "data": {
      "text/plain": [
       "\"I rescued Yumi Hamasaki at a food stall far away in Kelantan. At that time i was on my way back to KL, she was suffer from stomach problem and looking very2 sick.. I send her to vet & get the treatment + vaccinated and right now she's very2 healthy.. About yumi : - love to sleep with ppl - she will keep on meowing if she's hugry - very2 active, always seeking for people to accompany her playing - well trained (poo+pee in her own potty) - easy to bathing - I only feed her with these brands : IAMS, Kittenbites, Pro-formance Reason why i need someone to adopt Yumi: I just married and need to move to a new house where no pets are allowed :( As Yumi is very2 special to me, i will only give her to ppl that i think could take care of her just like i did (especially on her foods things)..\""
      ]
     },
     "execution_count": 4,
     "metadata": {},
     "output_type": "execute_result"
    }
   ],
   "source": [
    "example_row = train_data.iloc[0]\n",
    "example_image = example_row[image_col]\n",
    "\n",
    "from IPython.display import Image, display\n",
    "pil_img = Image(filename=example_image)\n",
    "display(pil_img)\n",
    "\n",
    "example_row['Description']"
   ]
  },
  {
   "cell_type": "code",
   "execution_count": 5,
   "id": "04ee14a1-d78a-4eeb-9374-94a5c05d29e5",
   "metadata": {},
   "outputs": [
    {
     "data": {
      "text/html": [
       "<div>\n",
       "<style scoped>\n",
       "    .dataframe tbody tr th:only-of-type {\n",
       "        vertical-align: middle;\n",
       "    }\n",
       "\n",
       "    .dataframe tbody tr th {\n",
       "        vertical-align: top;\n",
       "    }\n",
       "\n",
       "    .dataframe thead th {\n",
       "        text-align: right;\n",
       "    }\n",
       "</style>\n",
       "<table border=\"1\" class=\"dataframe\">\n",
       "  <thead>\n",
       "    <tr style=\"text-align: right;\">\n",
       "      <th></th>\n",
       "      <th>Type</th>\n",
       "      <th>Name</th>\n",
       "      <th>Age</th>\n",
       "      <th>Breed1</th>\n",
       "      <th>Breed2</th>\n",
       "      <th>Gender</th>\n",
       "      <th>Color1</th>\n",
       "      <th>Color2</th>\n",
       "      <th>Color3</th>\n",
       "      <th>MaturitySize</th>\n",
       "      <th>...</th>\n",
       "      <th>Quantity</th>\n",
       "      <th>Fee</th>\n",
       "      <th>State</th>\n",
       "      <th>RescuerID</th>\n",
       "      <th>VideoAmt</th>\n",
       "      <th>Description</th>\n",
       "      <th>PetID</th>\n",
       "      <th>PhotoAmt</th>\n",
       "      <th>AdoptionSpeed</th>\n",
       "      <th>Images</th>\n",
       "    </tr>\n",
       "  </thead>\n",
       "  <tbody>\n",
       "    <tr>\n",
       "      <th>0</th>\n",
       "      <td>2</td>\n",
       "      <td>Yumi Hamasaki</td>\n",
       "      <td>4</td>\n",
       "      <td>292</td>\n",
       "      <td>265</td>\n",
       "      <td>2</td>\n",
       "      <td>1</td>\n",
       "      <td>5</td>\n",
       "      <td>7</td>\n",
       "      <td>2</td>\n",
       "      <td>...</td>\n",
       "      <td>1</td>\n",
       "      <td>0</td>\n",
       "      <td>41326</td>\n",
       "      <td>bcc4e1b9557a8b3aaf545ea8e6e86991</td>\n",
       "      <td>0</td>\n",
       "      <td>I rescued Yumi Hamasaki at a food stall far aw...</td>\n",
       "      <td>7d7a39d71</td>\n",
       "      <td>3.0</td>\n",
       "      <td>0</td>\n",
       "      <td>/Users/anidagar/Desktop/Work/autogluon/experim...</td>\n",
       "    </tr>\n",
       "    <tr>\n",
       "      <th>1</th>\n",
       "      <td>2</td>\n",
       "      <td>Nene/ Kimie</td>\n",
       "      <td>12</td>\n",
       "      <td>285</td>\n",
       "      <td>0</td>\n",
       "      <td>2</td>\n",
       "      <td>5</td>\n",
       "      <td>6</td>\n",
       "      <td>7</td>\n",
       "      <td>2</td>\n",
       "      <td>...</td>\n",
       "      <td>1</td>\n",
       "      <td>0</td>\n",
       "      <td>41326</td>\n",
       "      <td>f0450bf0efe0fa3ff9321d0b827b1237</td>\n",
       "      <td>0</td>\n",
       "      <td>Has adopted by a friend with new pet name Kimie</td>\n",
       "      <td>0e107c82f</td>\n",
       "      <td>3.0</td>\n",
       "      <td>0</td>\n",
       "      <td>/Users/anidagar/Desktop/Work/autogluon/experim...</td>\n",
       "    </tr>\n",
       "    <tr>\n",
       "      <th>2</th>\n",
       "      <td>2</td>\n",
       "      <td>Mattie</td>\n",
       "      <td>12</td>\n",
       "      <td>266</td>\n",
       "      <td>0</td>\n",
       "      <td>2</td>\n",
       "      <td>1</td>\n",
       "      <td>7</td>\n",
       "      <td>0</td>\n",
       "      <td>2</td>\n",
       "      <td>...</td>\n",
       "      <td>1</td>\n",
       "      <td>0</td>\n",
       "      <td>41401</td>\n",
       "      <td>9b52af6d48a4521fd01d4028eb5879a3</td>\n",
       "      <td>0</td>\n",
       "      <td>I rescued Mattie with a broken leg. After surg...</td>\n",
       "      <td>1a8fd6707</td>\n",
       "      <td>5.0</td>\n",
       "      <td>0</td>\n",
       "      <td>/Users/anidagar/Desktop/Work/autogluon/experim...</td>\n",
       "    </tr>\n",
       "    <tr>\n",
       "      <th>3</th>\n",
       "      <td>1</td>\n",
       "      <td>NaN</td>\n",
       "      <td>1</td>\n",
       "      <td>189</td>\n",
       "      <td>307</td>\n",
       "      <td>2</td>\n",
       "      <td>1</td>\n",
       "      <td>2</td>\n",
       "      <td>0</td>\n",
       "      <td>2</td>\n",
       "      <td>...</td>\n",
       "      <td>1</td>\n",
       "      <td>0</td>\n",
       "      <td>41401</td>\n",
       "      <td>88da1210e021a5cf43480b074778f3bc</td>\n",
       "      <td>0</td>\n",
       "      <td>She born on 30 September . I really hope the a...</td>\n",
       "      <td>bca8b44ae</td>\n",
       "      <td>3.0</td>\n",
       "      <td>0</td>\n",
       "      <td>/Users/anidagar/Desktop/Work/autogluon/experim...</td>\n",
       "    </tr>\n",
       "    <tr>\n",
       "      <th>4</th>\n",
       "      <td>2</td>\n",
       "      <td>Coco</td>\n",
       "      <td>6</td>\n",
       "      <td>276</td>\n",
       "      <td>285</td>\n",
       "      <td>2</td>\n",
       "      <td>2</td>\n",
       "      <td>4</td>\n",
       "      <td>7</td>\n",
       "      <td>2</td>\n",
       "      <td>...</td>\n",
       "      <td>1</td>\n",
       "      <td>100</td>\n",
       "      <td>41326</td>\n",
       "      <td>227d7b1bcfaffb5f9882bf57b5ee8fab</td>\n",
       "      <td>0</td>\n",
       "      <td>Calico Tame and easy going Diet RC Kitten Supp...</td>\n",
       "      <td>2def67952</td>\n",
       "      <td>1.0</td>\n",
       "      <td>0</td>\n",
       "      <td>/Users/anidagar/Desktop/Work/autogluon/experim...</td>\n",
       "    </tr>\n",
       "  </tbody>\n",
       "</table>\n",
       "<p>5 rows × 25 columns</p>\n",
       "</div>"
      ],
      "text/plain": [
       "   Type           Name  Age  Breed1  Breed2  Gender  Color1  Color2  Color3  \\\n",
       "0     2  Yumi Hamasaki    4     292     265       2       1       5       7   \n",
       "1     2    Nene/ Kimie   12     285       0       2       5       6       7   \n",
       "2     2         Mattie   12     266       0       2       1       7       0   \n",
       "3     1            NaN    1     189     307       2       1       2       0   \n",
       "4     2           Coco    6     276     285       2       2       4       7   \n",
       "\n",
       "   MaturitySize  ...  Quantity  Fee  State                         RescuerID  \\\n",
       "0             2  ...         1    0  41326  bcc4e1b9557a8b3aaf545ea8e6e86991   \n",
       "1             2  ...         1    0  41326  f0450bf0efe0fa3ff9321d0b827b1237   \n",
       "2             2  ...         1    0  41401  9b52af6d48a4521fd01d4028eb5879a3   \n",
       "3             2  ...         1    0  41401  88da1210e021a5cf43480b074778f3bc   \n",
       "4             2  ...         1  100  41326  227d7b1bcfaffb5f9882bf57b5ee8fab   \n",
       "\n",
       "   VideoAmt                                        Description      PetID  \\\n",
       "0         0  I rescued Yumi Hamasaki at a food stall far aw...  7d7a39d71   \n",
       "1         0    Has adopted by a friend with new pet name Kimie  0e107c82f   \n",
       "2         0  I rescued Mattie with a broken leg. After surg...  1a8fd6707   \n",
       "3         0  She born on 30 September . I really hope the a...  bca8b44ae   \n",
       "4         0  Calico Tame and easy going Diet RC Kitten Supp...  2def67952   \n",
       "\n",
       "   PhotoAmt AdoptionSpeed                                             Images  \n",
       "0       3.0             0  /Users/anidagar/Desktop/Work/autogluon/experim...  \n",
       "1       3.0             0  /Users/anidagar/Desktop/Work/autogluon/experim...  \n",
       "2       5.0             0  /Users/anidagar/Desktop/Work/autogluon/experim...  \n",
       "3       3.0             0  /Users/anidagar/Desktop/Work/autogluon/experim...  \n",
       "4       1.0             0  /Users/anidagar/Desktop/Work/autogluon/experim...  \n",
       "\n",
       "[5 rows x 25 columns]"
      ]
     },
     "execution_count": 5,
     "metadata": {},
     "output_type": "execute_result"
    }
   ],
   "source": [
    "train_data.head()"
   ]
  },
  {
   "cell_type": "code",
   "execution_count": 6,
   "id": "a513e7d3-cf8f-431a-8b20-2028b1798f00",
   "metadata": {},
   "outputs": [
    {
     "name": "stderr",
     "output_type": "stream",
     "text": [
      "No path specified. Models will be saved in: \"AutogluonModels/ag-20231025_000756\"\n",
      "/Users/anidagar/Desktop/Work/autogluon/core/src/autogluon/core/utils/utils.py:564: FutureWarning: use_inf_as_na option is deprecated and will be removed in a future version. Convert inf values to NaN before operating instead.\n",
      "  with pd.option_context(\"mode.use_inf_as_na\", True):  # treat None, NaN, INF, NINF as NA\n",
      "AutoGluon infers your prediction problem is: 'binary' (because only two unique label-values observed).\n",
      "\t2 unique label values:  [0, 1]\n",
      "\tIf 'binary' is not the correct problem_type, please manually specify the problem_type parameter during predictor init (You may specify problem_type as one of: ['binary', 'multiclass', 'regression'])\n",
      "INFO: Global seed set to 0\n",
      "AutoMM starts to create your model. ✨\n",
      "\n",
      "- AutoGluon version is 0.8.3b20231003.\n",
      "\n",
      "- Pytorch version is 2.0.1.\n",
      "\n",
      "- Model will be saved to \"/Users/anidagar/Desktop/Work/autogluon/experimental/experimental/AutogluonModels/ag-20231025_000756\".\n",
      "\n",
      "- Validation metric is \"roc_auc\".\n",
      "\n",
      "- To track the learning progress, you can open a terminal and launch Tensorboard:\n",
      "    ```shell\n",
      "    # Assume you have installed tensorboard\n",
      "    tensorboard --logdir /Users/anidagar/Desktop/Work/autogluon/experimental/experimental/AutogluonModels/ag-20231025_000756\n",
      "    ```\n",
      "\n",
      "Enjoy your coffee, and let AutoMM do the job ☕☕☕ Learn more at https://auto.gluon.ai\n",
      "\n",
      "/Users/anidagar/miniconda3/envs/autogluon/lib/python3.10/site-packages/torch/functional.py:504: UserWarning: torch.meshgrid: in an upcoming release, it will be required to pass the indexing argument. (Triggered internally at /Users/runner/work/pytorch/pytorch/pytorch/aten/src/ATen/native/TensorShape.cpp:3484.)\n",
      "  return _VF.meshgrid(tensors, **kwargs)  # type: ignore[attr-defined]\n",
      "0 GPUs are detected, and 0 GPUs will be used.\n",
      "\n",
      "/Users/anidagar/Desktop/Work/autogluon/multimodal/src/autogluon/multimodal/utils/environment.py:91: UserWarning: Only CPU is detected in the instance. This may result in slow speed for MultiModalPredictor. Consider using an instance with GPU support.\n",
      "  warnings.warn(\n",
      "INFO: GPU available: True (mps), used: True\n",
      "INFO: TPU available: False, using: 0 TPU cores\n",
      "INFO: IPU available: False, using: 0 IPUs\n",
      "INFO: HPU available: False, using: 0 HPUs\n",
      "INFO: \n",
      "  | Name              | Type                | Params\n",
      "----------------------------------------------------------\n",
      "0 | model             | MultimodalFusionMLP | 198 M \n",
      "1 | validation_metric | BinaryAUROC         | 0     \n",
      "2 | loss_func         | CrossEntropyLoss    | 0     \n",
      "----------------------------------------------------------\n",
      "198 M     Trainable params\n",
      "0         Non-trainable params\n",
      "198 M     Total params\n",
      "792.034   Total estimated model params size (MB)\n"
     ]
    },
    {
     "data": {
      "application/vnd.jupyter.widget-view+json": {
       "model_id": "",
       "version_major": 2,
       "version_minor": 0
      },
      "text/plain": [
       "Sanity Checking: 0it [00:00, ?it/s]"
      ]
     },
     "metadata": {},
     "output_type": "display_data"
    },
    {
     "name": "stderr",
     "output_type": "stream",
     "text": [
      "/Users/anidagar/miniconda3/envs/autogluon/lib/python3.10/site-packages/timm/models/swin_transformer.py:292: UserWarning: The operator 'aten::roll' is not currently supported on the MPS backend and will fall back to run on the CPU. This may have performance implications. (Triggered internally at /Users/runner/work/pytorch/pytorch/pytorch/aten/src/ATen/mps/MPSFallback.mm:11.)\n",
      "  shifted_x = torch.roll(x, shifts=(-self.shift_size[0], -self.shift_size[1]), dims=(1, 2))\n"
     ]
    },
    {
     "data": {
      "application/vnd.jupyter.widget-view+json": {
       "model_id": "2fd091886d8749e499c54f7bad7addd6",
       "version_major": 2,
       "version_minor": 0
      },
      "text/plain": [
       "Training: 0it [00:00, ?it/s]"
      ]
     },
     "metadata": {},
     "output_type": "display_data"
    },
    {
     "data": {
      "application/vnd.jupyter.widget-view+json": {
       "model_id": "",
       "version_major": 2,
       "version_minor": 0
      },
      "text/plain": [
       "Validation: 0it [00:00, ?it/s]"
      ]
     },
     "metadata": {},
     "output_type": "display_data"
    },
    {
     "name": "stderr",
     "output_type": "stream",
     "text": [
      "INFO: Epoch 0, global step 1: 'val_roc_auc' reached 0.40056 (best 0.40056), saving model to '/Users/anidagar/Desktop/Work/autogluon/experimental/experimental/AutogluonModels/ag-20231025_000756/epoch=0-step=1.ckpt' as top 3\n"
     ]
    },
    {
     "data": {
      "application/vnd.jupyter.widget-view+json": {
       "model_id": "",
       "version_major": 2,
       "version_minor": 0
      },
      "text/plain": [
       "Validation: 0it [00:00, ?it/s]"
      ]
     },
     "metadata": {},
     "output_type": "display_data"
    },
    {
     "name": "stderr",
     "output_type": "stream",
     "text": [
      "INFO: Epoch 0, global step 4: 'val_roc_auc' reached 0.40056 (best 0.40056), saving model to '/Users/anidagar/Desktop/Work/autogluon/experimental/experimental/AutogluonModels/ag-20231025_000756/epoch=0-step=4.ckpt' as top 3\n",
      "INFO: Time limit reached. Elapsed time is 0:02:01. Signaling Trainer to stop.\n"
     ]
    },
    {
     "data": {
      "application/vnd.jupyter.widget-view+json": {
       "model_id": "",
       "version_major": 2,
       "version_minor": 0
      },
      "text/plain": [
       "Validation: 0it [00:00, ?it/s]"
      ]
     },
     "metadata": {},
     "output_type": "display_data"
    },
    {
     "name": "stderr",
     "output_type": "stream",
     "text": [
      "Start to fuse 2 checkpoints via the greedy soup algorithm.\n"
     ]
    },
    {
     "data": {
      "application/vnd.jupyter.widget-view+json": {
       "model_id": "c535771cd091433984e6053cdd8a5ab2",
       "version_major": 2,
       "version_minor": 0
      },
      "text/plain": [
       "Predicting: 0it [00:00, ?it/s]"
      ]
     },
     "metadata": {},
     "output_type": "display_data"
    },
    {
     "data": {
      "application/vnd.jupyter.widget-view+json": {
       "model_id": "730ddb2a418a46858f4755be58cdced8",
       "version_major": 2,
       "version_minor": 0
      },
      "text/plain": [
       "Predicting: 0it [00:00, ?it/s]"
      ]
     },
     "metadata": {},
     "output_type": "display_data"
    },
    {
     "name": "stderr",
     "output_type": "stream",
     "text": [
      "AutoMM has created your model 🎉🎉🎉\n",
      "\n",
      "- To load the model, use the code below:\n",
      "    ```python\n",
      "    from autogluon.multimodal import MultiModalPredictor\n",
      "    predictor = MultiModalPredictor.load(\"/Users/anidagar/Desktop/Work/autogluon/experimental/experimental/AutogluonModels/ag-20231025_000756\")\n",
      "    ```\n",
      "\n",
      "- You can open a terminal and launch Tensorboard to visualize the training log:\n",
      "    ```shell\n",
      "    # Assume you have installed tensorboard\n",
      "    tensorboard --logdir /Users/anidagar/Desktop/Work/autogluon/experimental/experimental/AutogluonModels/ag-20231025_000756\n",
      "    ```\n",
      "\n",
      "- If you are not satisfied with the model, try to increase the training time, \n",
      "adjust the hyperparameters (https://auto.gluon.ai/stable/tutorials/multimodal/advanced_topics/customization.html),\n",
      "or post issues on GitHub: https://github.com/autogluon/autogluon\n",
      "\n",
      "\n"
     ]
    }
   ],
   "source": [
    "from autogluon.multimodal import MultiModalPredictor\n",
    "\n",
    "predictor = MultiModalPredictor(label=label_col, problem_type='classification').fit(\n",
    "    train_data=train_data,\n",
    "    time_limit=120\n",
    ")"
   ]
  },
  {
   "cell_type": "code",
   "execution_count": null,
   "id": "05bb3bd0-08ae-4d02-bd54-4a9067f83e57",
   "metadata": {},
   "outputs": [
    {
     "name": "stderr",
     "output_type": "stream",
     "text": [
      "No path specified. Models will be saved in: \"AutogluonModels/ag-20231025_000257\"\n",
      "/Users/anidagar/Desktop/Work/autogluon/core/src/autogluon/core/utils/utils.py:564: FutureWarning: use_inf_as_na option is deprecated and will be removed in a future version. Convert inf values to NaN before operating instead.\n",
      "  with pd.option_context(\"mode.use_inf_as_na\", True):  # treat None, NaN, INF, NINF as NA\n",
      "AutoGluon infers your prediction problem is: 'binary' (because only two unique label-values observed).\n",
      "\t2 unique label values:  [0, 1]\n",
      "\tIf 'binary' is not the correct problem_type, please manually specify the problem_type parameter during predictor init (You may specify problem_type as one of: ['binary', 'multiclass', 'regression'])\n",
      "INFO: Global seed set to 0\n",
      "AutoMM starts to create your model. ✨\n",
      "\n",
      "- AutoGluon version is 0.8.3b20231003.\n",
      "\n",
      "- Pytorch version is 2.0.1.\n",
      "\n",
      "- Model will be saved to \"/Users/anidagar/Desktop/Work/autogluon/experimental/experimental/AutogluonModels/ag-20231025_000257\".\n",
      "\n",
      "- Validation metric is \"roc_auc\".\n",
      "\n",
      "- To track the learning progress, you can open a terminal and launch Tensorboard:\n",
      "    ```shell\n",
      "    # Assume you have installed tensorboard\n",
      "    tensorboard --logdir /Users/anidagar/Desktop/Work/autogluon/experimental/experimental/AutogluonModels/ag-20231025_000257\n",
      "    ```\n",
      "\n",
      "Enjoy your coffee, and let AutoMM do the job ☕☕☕ Learn more at https://auto.gluon.ai\n",
      "\n",
      "/Users/anidagar/miniconda3/envs/autogluon/lib/python3.10/site-packages/torch/functional.py:504: UserWarning: torch.meshgrid: in an upcoming release, it will be required to pass the indexing argument. (Triggered internally at /Users/runner/work/pytorch/pytorch/pytorch/aten/src/ATen/native/TensorShape.cpp:3484.)\n",
      "  return _VF.meshgrid(tensors, **kwargs)  # type: ignore[attr-defined]\n",
      "0 GPUs are detected, and 0 GPUs will be used.\n",
      "\n",
      "/Users/anidagar/Desktop/Work/autogluon/multimodal/src/autogluon/multimodal/utils/environment.py:91: UserWarning: Only CPU is detected in the instance. This may result in slow speed for MultiModalPredictor. Consider using an instance with GPU support.\n",
      "  warnings.warn(\n",
      "INFO: GPU available: True (mps), used: True\n",
      "INFO: TPU available: False, using: 0 TPU cores\n",
      "INFO: IPU available: False, using: 0 IPUs\n",
      "INFO: HPU available: False, using: 0 HPUs\n",
      "INFO: \n",
      "  | Name              | Type                | Params\n",
      "----------------------------------------------------------\n",
      "0 | model             | MultimodalFusionMLP | 198 M \n",
      "1 | validation_metric | BinaryAUROC         | 0     \n",
      "2 | loss_func         | CrossEntropyLoss    | 0     \n",
      "----------------------------------------------------------\n",
      "198 M     Trainable params\n",
      "0         Non-trainable params\n",
      "198 M     Total params\n",
      "792.034   Total estimated model params size (MB)\n"
     ]
    },
    {
     "data": {
      "application/vnd.jupyter.widget-view+json": {
       "model_id": "",
       "version_major": 2,
       "version_minor": 0
      },
      "text/plain": [
       "Sanity Checking: 0it [00:00, ?it/s]"
      ]
     },
     "metadata": {},
     "output_type": "display_data"
    },
    {
     "name": "stdout",
     "output_type": "stream",
     "text": [
      "> \u001b[0;32m/Users/anidagar/Desktop/Work/autogluon/multimodal/src/autogluon/multimodal/optimization/lit_module.py\u001b[0m(221)\u001b[0;36m_shared_step\u001b[0;34m()\u001b[0m\n",
      "\u001b[0;32m    219 \u001b[0;31m            \u001b[0mbatch\u001b[0m\u001b[0;34m,\u001b[0m \u001b[0mlabel\u001b[0m \u001b[0;34m=\u001b[0m \u001b[0mmultimodel_mixup\u001b[0m\u001b[0;34m(\u001b[0m\u001b[0mbatch\u001b[0m\u001b[0;34m=\u001b[0m\u001b[0mbatch\u001b[0m\u001b[0;34m,\u001b[0m \u001b[0mmodel\u001b[0m\u001b[0;34m=\u001b[0m\u001b[0mself\u001b[0m\u001b[0;34m.\u001b[0m\u001b[0mmodel\u001b[0m\u001b[0;34m,\u001b[0m \u001b[0mmixup_fn\u001b[0m\u001b[0;34m=\u001b[0m\u001b[0mself\u001b[0m\u001b[0;34m.\u001b[0m\u001b[0mmixup_fn\u001b[0m\u001b[0;34m)\u001b[0m\u001b[0;34m\u001b[0m\u001b[0;34m\u001b[0m\u001b[0m\n",
      "\u001b[0m\u001b[0;32m    220 \u001b[0;31m        \u001b[0;32mimport\u001b[0m \u001b[0mpdb\u001b[0m\u001b[0;34m;\u001b[0m \u001b[0mpdb\u001b[0m\u001b[0;34m.\u001b[0m\u001b[0mset_trace\u001b[0m\u001b[0;34m(\u001b[0m\u001b[0;34m)\u001b[0m\u001b[0;34m\u001b[0m\u001b[0;34m\u001b[0m\u001b[0m\n",
      "\u001b[0m\u001b[0;32m--> 221 \u001b[0;31m        \u001b[0moutput\u001b[0m \u001b[0;34m=\u001b[0m \u001b[0mrun_model\u001b[0m\u001b[0;34m(\u001b[0m\u001b[0mself\u001b[0m\u001b[0;34m.\u001b[0m\u001b[0mmodel\u001b[0m\u001b[0;34m,\u001b[0m \u001b[0mbatch\u001b[0m\u001b[0;34m)\u001b[0m\u001b[0;34m\u001b[0m\u001b[0;34m\u001b[0m\u001b[0m\n",
      "\u001b[0m\u001b[0;32m    222 \u001b[0;31m        \u001b[0mloss\u001b[0m \u001b[0;34m=\u001b[0m \u001b[0mself\u001b[0m\u001b[0;34m.\u001b[0m\u001b[0m_compute_loss\u001b[0m\u001b[0;34m(\u001b[0m\u001b[0moutput\u001b[0m\u001b[0;34m=\u001b[0m\u001b[0moutput\u001b[0m\u001b[0;34m,\u001b[0m \u001b[0mlabel\u001b[0m\u001b[0;34m=\u001b[0m\u001b[0mlabel\u001b[0m\u001b[0;34m)\u001b[0m\u001b[0;34m\u001b[0m\u001b[0;34m\u001b[0m\u001b[0m\n",
      "\u001b[0m\u001b[0;32m    223 \u001b[0;31m        \u001b[0;32mreturn\u001b[0m \u001b[0moutput\u001b[0m\u001b[0;34m,\u001b[0m \u001b[0mloss\u001b[0m\u001b[0;34m\u001b[0m\u001b[0;34m\u001b[0m\u001b[0m\n",
      "\u001b[0m\n"
     ]
    },
    {
     "name": "stdin",
     "output_type": "stream",
     "text": [
      "ipdb>  batch\n"
     ]
    },
    {
     "name": "stdout",
     "output_type": "stream",
     "text": [
      "{'timm_image_image': tensor([[[[[ 0.7762,  0.8104,  0.7933,  ...,  0.8276,  0.8104,  0.7762],\n",
      "           [ 0.8276,  0.7933,  0.7419,  ...,  0.8104,  0.7762,  0.7933],\n",
      "           [ 0.7762,  0.7248,  0.6734,  ...,  0.8104,  0.7591,  0.7933],\n",
      "           ...,\n",
      "           [ 0.7762,  1.5297,  2.0605,  ...,  0.3138,  0.2453,  0.2624],\n",
      "           [ 1.2043,  1.2899,  1.9407,  ...,  0.2967,  0.1768,  0.2282],\n",
      "           [ 1.5297,  1.3413,  1.5810,  ...,  0.2453,  0.1939,  0.2282]],\n",
      "\n",
      "          [[ 0.0301,  0.0651,  0.0476,  ...,  0.8704,  0.8529,  0.8179],\n",
      "           [ 0.0826,  0.0476, -0.0049,  ...,  0.8529,  0.8179,  0.8354],\n",
      "           [ 0.0301, -0.0224, -0.0749,  ...,  0.8529,  0.8004,  0.8354],\n",
      "           ...,\n",
      "           [ 0.4503,  1.2031,  1.6758,  ...,  0.4153,  0.3452,  0.3627],\n",
      "           [ 0.7829,  0.8880,  1.5532,  ...,  0.3978,  0.2752,  0.3277],\n",
      "           [ 1.0105,  0.8880,  1.1331,  ...,  0.3452,  0.2927,  0.3102]],\n",
      "\n",
      "          [[-0.2184, -0.1835, -0.2010,  ...,  0.4962,  0.4788,  0.4614],\n",
      "           [-0.2010, -0.2358, -0.2532,  ...,  0.4788,  0.4439,  0.4439],\n",
      "           [-0.2532, -0.3055, -0.3230,  ...,  0.4788,  0.4265,  0.4614],\n",
      "           ...,\n",
      "           [-0.3927,  0.4091,  0.9668,  ...,  0.3742,  0.3219,  0.3742],\n",
      "           [ 0.1476,  0.2696,  0.9668,  ...,  0.3568,  0.2348,  0.3393],\n",
      "           [ 0.6356,  0.4788,  0.7751,  ...,  0.3045,  0.2522,  0.2871]]]],\n",
      "\n",
      "\n",
      "\n",
      "        [[[[-0.3712, -0.3541, -0.3541,  ..., -0.5082, -0.6109,  0.5364],\n",
      "           [-0.4397, -0.4054, -0.4054,  ..., -0.7479, -0.9534, -0.4911],\n",
      "           [-0.4568, -0.4911, -0.5082,  ..., -0.9020, -1.0904, -1.2274],\n",
      "           ...,\n",
      "           [-1.0562, -1.0390, -1.0390,  ..., -1.5699, -1.5357, -1.5185],\n",
      "           [-1.0390, -1.0562, -1.0733,  ..., -1.5870, -1.5699, -1.5528],\n",
      "           [-1.0562, -1.1075, -1.1418,  ..., -1.6042, -1.5870, -1.5528]],\n",
      "\n",
      "          [[ 0.0476,  0.0651,  0.0476,  ..., -0.6702, -0.7052,  0.5378],\n",
      "           [-0.0049,  0.0301, -0.0049,  ..., -0.7927, -0.9153, -0.4076],\n",
      "           [-0.0749, -0.0574, -0.0399,  ..., -0.8627, -1.0028, -1.1253],\n",
      "           ...,\n",
      "           [-1.0378, -1.0203, -1.0203,  ..., -1.5805, -1.5455, -1.5280],\n",
      "           [-1.0203, -1.0378, -1.0553,  ..., -1.5630, -1.5455, -1.5105],\n",
      "           [-1.0378, -1.0903, -1.1253,  ..., -1.5805, -1.5630, -1.5280]],\n",
      "\n",
      "          [[ 0.3219,  0.4265,  0.5311,  ..., -0.5147, -0.5147,  0.7576],\n",
      "           [ 0.2696,  0.3568,  0.4788,  ..., -0.6890, -0.8110, -0.3055],\n",
      "           [ 0.2696,  0.3568,  0.4439,  ..., -0.7761, -0.8981, -1.0201],\n",
      "           ...,\n",
      "           [-0.8981, -0.8807, -0.8633,  ..., -1.5256, -1.5081, -1.4733],\n",
      "           [-0.8981, -0.9330, -0.9504,  ..., -1.5256, -1.5081, -1.4907],\n",
      "           [-0.9156, -0.9504, -0.9853,  ..., -1.5430, -1.5256, -1.4907]]]],\n",
      "\n",
      "\n",
      "\n",
      "        [[[[ 1.5125,  1.2899,  0.5536,  ...,  0.9474,  0.9646,  0.9303],\n",
      "           [ 1.5297,  1.3755,  0.8276,  ...,  0.9988,  1.0159,  0.9817],\n",
      "           [ 1.5125,  1.4098,  1.0502,  ...,  1.0331,  1.0673,  1.0673],\n",
      "           ...,\n",
      "           [-0.0458, -0.0972, -0.1657,  ...,  0.4679,  0.5364,  0.5022],\n",
      "           [-0.3883, -0.2342, -0.2684,  ...,  0.3652,  0.4508,  0.6049],\n",
      "           [-0.2856, -0.1999, -0.3027,  ...,  0.4679,  0.3309,  0.4337]],\n",
      "\n",
      "          [[ 1.8859,  1.7108,  0.9930,  ...,  0.9055,  0.8704,  0.8529],\n",
      "           [ 1.9559,  1.8158,  1.2731,  ...,  0.9755,  0.9405,  0.9055],\n",
      "           [ 1.9734,  1.9034,  1.5532,  ...,  1.0630,  1.0280,  0.9930],\n",
      "           ...,\n",
      "           [-0.3550, -0.3550, -0.3901,  ...,  0.2052,  0.2752,  0.2402],\n",
      "           [-0.7052, -0.4951, -0.5126,  ...,  0.0476,  0.1877,  0.3627],\n",
      "           [-0.5826, -0.4776, -0.5651,  ...,  0.1527,  0.0826,  0.2227]],\n",
      "\n",
      "          [[ 2.4483,  2.2914,  1.5768,  ...,  0.8274,  0.8448,  0.7751],\n",
      "           [ 2.5006,  2.3960,  1.8383,  ...,  0.8797,  0.8971,  0.8274],\n",
      "           [ 2.5006,  2.4134,  2.0823,  ...,  0.9668,  0.9842,  0.9145],\n",
      "           ...,\n",
      "           [-0.0615, -0.0964, -0.1487,  ...,  0.5659,  0.6356,  0.6008],\n",
      "           [-0.4101, -0.2358, -0.2707,  ...,  0.4265,  0.5485,  0.7228],\n",
      "           [-0.3055, -0.2184, -0.3055,  ...,  0.5311,  0.4439,  0.5485]]]],\n",
      "\n",
      "\n",
      "\n",
      "        ...,\n",
      "\n",
      "\n",
      "\n",
      "        [[[[-1.6555, -2.0152, -1.9638,  ..., -1.9980, -1.9980, -1.9980],\n",
      "           [-1.6555, -2.0152, -1.9638,  ..., -1.9980, -1.9980, -1.9980],\n",
      "           [-1.6555, -2.0152, -1.9638,  ..., -1.9980, -1.9980, -1.9980],\n",
      "           ...,\n",
      "           [-1.6555, -2.0152, -1.9638,  ..., -1.9980, -1.9980, -1.9980],\n",
      "           [-1.6555, -2.0152, -1.9638,  ..., -1.9980, -1.9980, -1.9980],\n",
      "           [-1.6555, -2.0152, -1.9638,  ..., -1.9980, -1.9980, -1.9980]],\n",
      "\n",
      "          [[-1.5630, -1.9307, -1.8782,  ..., -1.8957, -1.8957, -1.8957],\n",
      "           [-1.5630, -1.9307, -1.8782,  ..., -1.8957, -1.8957, -1.8957],\n",
      "           [-1.5630, -1.9307, -1.8782,  ..., -1.8957, -1.8957, -1.8957],\n",
      "           ...,\n",
      "           [-1.5630, -1.9307, -1.8782,  ..., -1.8957, -1.8957, -1.8957],\n",
      "           [-1.5630, -1.9307, -1.8782,  ..., -1.8957, -1.8957, -1.8957],\n",
      "           [-1.5630, -1.9307, -1.8782,  ..., -1.8957, -1.8957, -1.8957]],\n",
      "\n",
      "          [[-1.2990, -1.6650, -1.6127,  ..., -1.6302, -1.6302, -1.6302],\n",
      "           [-1.2990, -1.6650, -1.6127,  ..., -1.6302, -1.6302, -1.6302],\n",
      "           [-1.2990, -1.6650, -1.6127,  ..., -1.6302, -1.6302, -1.6302],\n",
      "           ...,\n",
      "           [-1.2990, -1.6650, -1.6127,  ..., -1.6302, -1.6302, -1.6302],\n",
      "           [-1.2990, -1.6650, -1.6127,  ..., -1.6302, -1.6302, -1.6302],\n",
      "           [-1.2990, -1.6650, -1.6127,  ..., -1.6302, -1.6302, -1.6302]]]],\n",
      "\n",
      "\n",
      "\n",
      "        [[[[ 0.2111,  0.0569,  0.5536,  ..., -0.1314,  0.2796,  0.3823],\n",
      "           [-0.5596, -0.2171,  0.1939,  ...,  0.0227,  0.4166,  0.4679],\n",
      "           [-0.5767, -0.4054, -0.0801,  ...,  0.1939,  0.4851,  0.4679],\n",
      "           ...,\n",
      "           [-1.0048, -1.2274, -0.7479,  ..., -0.5596, -0.5596, -0.5424],\n",
      "           [-1.0390, -1.1760, -0.6965,  ..., -0.6794, -0.7993, -0.9877],\n",
      "           [-1.1247, -1.2617, -0.9192,  ..., -1.4843, -1.5870, -1.7412]],\n",
      "\n",
      "          [[ 0.3803,  0.2577,  0.7654,  ...,  0.1001,  0.5378,  0.6254],\n",
      "           [-0.4251, -0.0574,  0.3978,  ...,  0.1877,  0.5903,  0.6604],\n",
      "           [-0.4251, -0.2500,  0.1001,  ...,  0.3102,  0.6078,  0.5903],\n",
      "           ...,\n",
      "           [-0.7752, -1.0728, -0.6527,  ..., -0.4251, -0.4076, -0.3725],\n",
      "           [-0.7752, -1.0553, -0.6702,  ..., -0.5301, -0.6352, -0.8277],\n",
      "           [-0.8452, -1.1604, -0.9328,  ..., -1.3529, -1.4405, -1.5980]],\n",
      "\n",
      "          [[ 0.1128,  0.0256,  0.6008,  ...,  0.0779,  0.4962,  0.5485],\n",
      "           [-0.6367, -0.2358,  0.2348,  ...,  0.1302,  0.5136,  0.5485],\n",
      "           [-0.5670, -0.3927, -0.0441,  ...,  0.2173,  0.4962,  0.4439],\n",
      "           ...,\n",
      "           [-0.8633, -1.1770, -0.7587,  ..., -0.3753, -0.4101, -0.4624],\n",
      "           [-0.8981, -1.1596, -0.7761,  ..., -0.5321, -0.6890, -0.9330],\n",
      "           [-0.9853, -1.2641, -1.0201,  ..., -1.3861, -1.5081, -1.7173]]]],\n",
      "\n",
      "\n",
      "\n",
      "        [[[[-0.3883, -0.3541, -0.3883,  ..., -1.2617, -1.2788, -1.3130],\n",
      "           [-0.3712, -0.3369, -0.4054,  ..., -1.6898, -1.6727, -1.6898],\n",
      "           [-0.3883, -0.3027, -0.3541,  ..., -1.5870, -1.7069, -1.6555],\n",
      "           ...,\n",
      "           [-0.9534, -0.9020, -0.9192,  ..., -0.6965, -0.5424, -0.7479],\n",
      "           [-0.9363, -0.8507, -0.9363,  ..., -0.9877, -0.9705, -0.8849],\n",
      "           [-0.8678, -0.8849, -0.9534,  ..., -0.8678, -0.6109, -0.8678]],\n",
      "\n",
      "          [[-0.3200, -0.2675, -0.3725,  ..., -0.9503, -1.0378, -1.1078],\n",
      "           [-0.3200, -0.2675, -0.3725,  ..., -1.3529, -1.3880, -1.3880],\n",
      "           [-0.4076, -0.2850, -0.3200,  ..., -1.2129, -1.3179, -1.2304],\n",
      "           ...,\n",
      "           [-0.8803, -0.8277, -0.8452,  ..., -0.4776, -0.2675, -0.4601],\n",
      "           [-0.8627, -0.7752, -0.8452,  ..., -0.7927, -0.7927, -0.7052],\n",
      "           [-0.8102, -0.7927, -0.8627,  ..., -0.6702, -0.4951, -0.7752]],\n",
      "\n",
      "          [[-0.6715, -0.6541, -0.6890,  ..., -1.1073, -1.1944, -1.2641],\n",
      "           [-0.6715, -0.6541, -0.7064,  ..., -1.5779, -1.6127, -1.6302],\n",
      "           [-0.7413, -0.6715, -0.6715,  ..., -1.5604, -1.6824, -1.5953],\n",
      "           ...,\n",
      "           [-0.8981, -0.8110, -0.8458,  ..., -0.3753, -0.2184, -0.4275],\n",
      "           [-0.8458, -0.8458, -0.8981,  ..., -0.6367, -0.6367, -0.5670],\n",
      "           [-0.7761, -0.8981, -0.9678,  ..., -0.5147, -0.3055, -0.5670]]]]],\n",
      "       device='mps:0'), 'timm_image_image_valid_num': tensor([1, 1, 1, 1, 1, 1, 1, 1], device='mps:0'), 'hf_text_text_token_ids': tensor([[ 101, 1016,  102,  ...,    0,    0,    0],\n",
      "        [ 101, 1016,  102,  ...,    0,    0,    0],\n",
      "        [ 101, 1015,  102,  ...,    0,    0,    0],\n",
      "        ...,\n",
      "        [ 101, 1015,  102,  ...,    0,    0,    0],\n",
      "        [ 101, 1016,  102,  ...,  102, 1014,  102],\n",
      "        [ 101, 1015,  102,  ...,    0,    0,    0]], device='mps:0',\n",
      "       dtype=torch.int32), 'hf_text_text_valid_length': tensor([165, 254,  75, 137, 148, 150, 322, 124], device='mps:0'), 'hf_text_text_segment_ids': tensor([[0, 0, 0,  ..., 0, 0, 0],\n",
      "        [0, 0, 0,  ..., 0, 0, 0],\n",
      "        [0, 0, 0,  ..., 0, 0, 0],\n",
      "        ...,\n",
      "        [0, 0, 0,  ..., 0, 0, 0],\n",
      "        [0, 0, 0,  ..., 0, 1, 1],\n",
      "        [0, 0, 0,  ..., 0, 0, 0]], device='mps:0', dtype=torch.int32), 'hf_text_choices_ids': tensor([], device='mps:0', size=(8, 0), dtype=torch.int32), 'numerical_mlp_numerical': tensor([[-0.5891,  0.7584, -0.6786, -0.3065,  0.4753],\n",
      "        [-0.4821, -0.1518, -0.6786, -0.3065,  0.1499],\n",
      "        [-0.6426,  0.7584,  1.7305, -0.3065, -0.8266],\n",
      "        [-0.5356,  0.6260, -0.6786, -0.3065,  0.4753],\n",
      "        [-0.2146, -0.1187, -0.6786, -0.3065,  0.4753],\n",
      "        [ 3.7436, -1.1944, -0.6786,  3.4859, -0.1756],\n",
      "        [-0.4821,  0.0799, -0.6786, -0.3065,  0.1499],\n",
      "        [-0.5356,  0.0799, -0.6786, -0.3065, -0.1756]], device='mps:0'), 'fusion_mlp_label': tensor([0, 1, 0, 0, 1, 0, 0, 0], device='mps:0'), 'hf_text_label': tensor([0, 1, 0, 0, 1, 0, 0, 0], device='mps:0'), 'numerical_mlp_label': tensor([0, 1, 0, 0, 1, 0, 0, 0], device='mps:0'), 'timm_image_label': tensor([0, 1, 0, 0, 1, 0, 0, 0], device='mps:0')}\n"
     ]
    },
    {
     "name": "stdin",
     "output_type": "stream",
     "text": [
      "ipdb>  l\n"
     ]
    },
    {
     "name": "stdout",
     "output_type": "stream",
     "text": [
      "\u001b[1;32m    216 \u001b[0m        \u001b[0mlabel\u001b[0m \u001b[0;34m=\u001b[0m \u001b[0mbatch\u001b[0m\u001b[0;34m[\u001b[0m\u001b[0mself\u001b[0m\u001b[0;34m.\u001b[0m\u001b[0mmodel\u001b[0m\u001b[0;34m.\u001b[0m\u001b[0mlabel_key\u001b[0m\u001b[0;34m]\u001b[0m\u001b[0;34m\u001b[0m\u001b[0;34m\u001b[0m\u001b[0m\n",
      "\u001b[1;32m    217 \u001b[0m        \u001b[0;32mif\u001b[0m \u001b[0mself\u001b[0m\u001b[0;34m.\u001b[0m\u001b[0mmixup_fn\u001b[0m \u001b[0;32mis\u001b[0m \u001b[0;32mnot\u001b[0m \u001b[0;32mNone\u001b[0m\u001b[0;34m:\u001b[0m\u001b[0;34m\u001b[0m\u001b[0;34m\u001b[0m\u001b[0m\n",
      "\u001b[1;32m    218 \u001b[0m            \u001b[0mself\u001b[0m\u001b[0;34m.\u001b[0m\u001b[0mmixup_fn\u001b[0m\u001b[0;34m.\u001b[0m\u001b[0mmixup_enabled\u001b[0m \u001b[0;34m=\u001b[0m \u001b[0mself\u001b[0m\u001b[0;34m.\u001b[0m\u001b[0mtraining\u001b[0m \u001b[0;34m&\u001b[0m \u001b[0;34m(\u001b[0m\u001b[0mself\u001b[0m\u001b[0;34m.\u001b[0m\u001b[0mcurrent_epoch\u001b[0m \u001b[0;34m<\u001b[0m \u001b[0mself\u001b[0m\u001b[0;34m.\u001b[0m\u001b[0mhparams\u001b[0m\u001b[0;34m.\u001b[0m\u001b[0mmixup_off_epoch\u001b[0m\u001b[0;34m)\u001b[0m\u001b[0;34m\u001b[0m\u001b[0;34m\u001b[0m\u001b[0m\n",
      "\u001b[1;32m    219 \u001b[0m            \u001b[0mbatch\u001b[0m\u001b[0;34m,\u001b[0m \u001b[0mlabel\u001b[0m \u001b[0;34m=\u001b[0m \u001b[0mmultimodel_mixup\u001b[0m\u001b[0;34m(\u001b[0m\u001b[0mbatch\u001b[0m\u001b[0;34m=\u001b[0m\u001b[0mbatch\u001b[0m\u001b[0;34m,\u001b[0m \u001b[0mmodel\u001b[0m\u001b[0;34m=\u001b[0m\u001b[0mself\u001b[0m\u001b[0;34m.\u001b[0m\u001b[0mmodel\u001b[0m\u001b[0;34m,\u001b[0m \u001b[0mmixup_fn\u001b[0m\u001b[0;34m=\u001b[0m\u001b[0mself\u001b[0m\u001b[0;34m.\u001b[0m\u001b[0mmixup_fn\u001b[0m\u001b[0;34m)\u001b[0m\u001b[0;34m\u001b[0m\u001b[0;34m\u001b[0m\u001b[0m\n",
      "\u001b[1;32m    220 \u001b[0m        \u001b[0;32mimport\u001b[0m \u001b[0mpdb\u001b[0m\u001b[0;34m;\u001b[0m \u001b[0mpdb\u001b[0m\u001b[0;34m.\u001b[0m\u001b[0mset_trace\u001b[0m\u001b[0;34m(\u001b[0m\u001b[0;34m)\u001b[0m\u001b[0;34m\u001b[0m\u001b[0;34m\u001b[0m\u001b[0m\n",
      "\u001b[0;32m--> 221 \u001b[0;31m        \u001b[0moutput\u001b[0m \u001b[0;34m=\u001b[0m \u001b[0mrun_model\u001b[0m\u001b[0;34m(\u001b[0m\u001b[0mself\u001b[0m\u001b[0;34m.\u001b[0m\u001b[0mmodel\u001b[0m\u001b[0;34m,\u001b[0m \u001b[0mbatch\u001b[0m\u001b[0;34m)\u001b[0m\u001b[0;34m\u001b[0m\u001b[0;34m\u001b[0m\u001b[0m\n",
      "\u001b[0m\u001b[1;32m    222 \u001b[0m        \u001b[0mloss\u001b[0m \u001b[0;34m=\u001b[0m \u001b[0mself\u001b[0m\u001b[0;34m.\u001b[0m\u001b[0m_compute_loss\u001b[0m\u001b[0;34m(\u001b[0m\u001b[0moutput\u001b[0m\u001b[0;34m=\u001b[0m\u001b[0moutput\u001b[0m\u001b[0;34m,\u001b[0m \u001b[0mlabel\u001b[0m\u001b[0;34m=\u001b[0m\u001b[0mlabel\u001b[0m\u001b[0;34m)\u001b[0m\u001b[0;34m\u001b[0m\u001b[0;34m\u001b[0m\u001b[0m\n",
      "\u001b[1;32m    223 \u001b[0m        \u001b[0;32mreturn\u001b[0m \u001b[0moutput\u001b[0m\u001b[0;34m,\u001b[0m \u001b[0mloss\u001b[0m\u001b[0;34m\u001b[0m\u001b[0;34m\u001b[0m\u001b[0m\n",
      "\u001b[1;32m    224 \u001b[0m\u001b[0;34m\u001b[0m\u001b[0m\n",
      "\u001b[1;32m    225 \u001b[0m    \u001b[0;32mdef\u001b[0m \u001b[0mtraining_step\u001b[0m\u001b[0;34m(\u001b[0m\u001b[0mself\u001b[0m\u001b[0;34m,\u001b[0m \u001b[0mbatch\u001b[0m\u001b[0;34m,\u001b[0m \u001b[0mbatch_idx\u001b[0m\u001b[0;34m)\u001b[0m\u001b[0;34m:\u001b[0m\u001b[0;34m\u001b[0m\u001b[0;34m\u001b[0m\u001b[0m\n",
      "\u001b[1;32m    226 \u001b[0m        \"\"\"\n",
      "\n"
     ]
    },
    {
     "name": "stdin",
     "output_type": "stream",
     "text": [
      "ipdb>  self.model\n"
     ]
    },
    {
     "name": "stdout",
     "output_type": "stream",
     "text": [
      "MultimodalFusionMLP(\n",
      "  (model): ModuleList(\n",
      "    (0): HFAutoModelForTextPrediction(\n",
      "      (model): ElectraModel(\n",
      "        (embeddings): ElectraEmbeddings(\n",
      "          (word_embeddings): Embedding(30522, 768, padding_idx=0)\n",
      "          (position_embeddings): Embedding(512, 768)\n",
      "          (token_type_embeddings): Embedding(2, 768)\n",
      "          (LayerNorm): LayerNorm((768,), eps=1e-12, elementwise_affine=True)\n",
      "          (dropout): Dropout(p=0.1, inplace=False)\n",
      "        )\n",
      "        (encoder): ElectraEncoder(\n",
      "          (layer): ModuleList(\n",
      "            (0-11): 12 x ElectraLayer(\n",
      "              (attention): ElectraAttention(\n",
      "                (self): ElectraSelfAttention(\n",
      "                  (query): Linear(in_features=768, out_features=768, bias=True)\n",
      "                  (key): Linear(in_features=768, out_features=768, bias=True)\n",
      "                  (value): Linear(in_features=768, out_features=768, bias=True)\n",
      "                  (dropout): Dropout(p=0.1, inplace=False)\n",
      "                )\n",
      "                (output): ElectraSelfOutput(\n",
      "                  (dense): Linear(in_features=768, out_features=768, bias=True)\n",
      "                  (LayerNorm): LayerNorm((768,), eps=1e-12, elementwise_affine=True)\n",
      "                  (dropout): Dropout(p=0.1, inplace=False)\n",
      "                )\n",
      "              )\n",
      "              (intermediate): ElectraIntermediate(\n",
      "                (dense): Linear(in_features=768, out_features=3072, bias=True)\n",
      "                (intermediate_act_fn): GELUActivation()\n",
      "              )\n",
      "              (output): ElectraOutput(\n",
      "                (dense): Linear(in_features=3072, out_features=768, bias=True)\n",
      "                (LayerNorm): LayerNorm((768,), eps=1e-12, elementwise_affine=True)\n",
      "                (dropout): Dropout(p=0.1, inplace=False)\n",
      "              )\n",
      "            )\n",
      "          )\n",
      "        )\n",
      "      )\n",
      "      (head): Linear(in_features=768, out_features=2, bias=True)\n",
      "    )\n",
      "    (1): NumericalMLP(\n",
      "      (numerical_feature_tokenizer): Identity()\n",
      "      (mlp): MLP(\n",
      "        (layers): Sequential(\n",
      "          (0): Unit(\n",
      "            (norm): LayerNorm((5,), eps=1e-05, elementwise_affine=True)\n",
      "            (fc): Linear(in_features=5, out_features=128, bias=True)\n",
      "            (act_fn): LeakyReLU(negative_slope=0.01)\n",
      "            (dropout): Dropout(p=0.1, inplace=False)\n",
      "          )\n",
      "        )\n",
      "      )\n",
      "      (head): Linear(in_features=128, out_features=2, bias=True)\n",
      "    )\n",
      "    (2): TimmAutoModelForImagePrediction(\n",
      "      (model): SwinTransformer(\n",
      "        (patch_embed): PatchEmbed(\n",
      "          (proj): Conv2d(3, 128, kernel_size=(4, 4), stride=(4, 4))\n",
      "          (norm): LayerNorm((128,), eps=1e-05, elementwise_affine=True)\n",
      "        )\n",
      "        (layers): Sequential(\n",
      "          (0): SwinTransformerStage(\n",
      "            (downsample): Identity()\n",
      "            (blocks): Sequential(\n",
      "              (0): SwinTransformerBlock(\n",
      "                (norm1): LayerNorm((128,), eps=1e-05, elementwise_affine=True)\n",
      "                (attn): WindowAttention(\n",
      "                  (qkv): Linear(in_features=128, out_features=384, bias=True)\n",
      "                  (attn_drop): Dropout(p=0.0, inplace=False)\n",
      "                  (proj): Linear(in_features=128, out_features=128, bias=True)\n",
      "                  (proj_drop): Dropout(p=0.0, inplace=False)\n",
      "                  (softmax): Softmax(dim=-1)\n",
      "                )\n",
      "                (drop_path1): Identity()\n",
      "                (norm2): LayerNorm((128,), eps=1e-05, elementwise_affine=True)\n",
      "                (mlp): Mlp(\n",
      "                  (fc1): Linear(in_features=128, out_features=512, bias=True)\n",
      "                  (act): GELU(approximate='none')\n",
      "                  (drop1): Dropout(p=0.0, inplace=False)\n",
      "                  (norm): Identity()\n",
      "                  (fc2): Linear(in_features=512, out_features=128, bias=True)\n",
      "                  (drop2): Dropout(p=0.0, inplace=False)\n",
      "                )\n",
      "                (drop_path2): Identity()\n",
      "              )\n",
      "              (1): SwinTransformerBlock(\n",
      "                (norm1): LayerNorm((128,), eps=1e-05, elementwise_affine=True)\n",
      "                (attn): WindowAttention(\n",
      "                  (qkv): Linear(in_features=128, out_features=384, bias=True)\n",
      "                  (attn_drop): Dropout(p=0.0, inplace=False)\n",
      "                  (proj): Linear(in_features=128, out_features=128, bias=True)\n",
      "                  (proj_drop): Dropout(p=0.0, inplace=False)\n",
      "                  (softmax): Softmax(dim=-1)\n",
      "                )\n",
      "                (drop_path1): DropPath(drop_prob=0.004)\n",
      "                (norm2): LayerNorm((128,), eps=1e-05, elementwise_affine=True)\n",
      "                (mlp): Mlp(\n",
      "                  (fc1): Linear(in_features=128, out_features=512, bias=True)\n",
      "                  (act): GELU(approximate='none')\n",
      "                  (drop1): Dropout(p=0.0, inplace=False)\n",
      "                  (norm): Identity()\n",
      "                  (fc2): Linear(in_features=512, out_features=128, bias=True)\n",
      "                  (drop2): Dropout(p=0.0, inplace=False)\n",
      "                )\n",
      "                (drop_path2): DropPath(drop_prob=0.004)\n",
      "              )\n",
      "            )\n",
      "          )\n",
      "          (1): SwinTransformerStage(\n",
      "            (downsample): PatchMerging(\n",
      "              (norm): LayerNorm((512,), eps=1e-05, elementwise_affine=True)\n",
      "              (reduction): Linear(in_features=512, out_features=256, bias=False)\n",
      "            )\n",
      "            (blocks): Sequential(\n",
      "              (0): SwinTransformerBlock(\n",
      "                (norm1): LayerNorm((256,), eps=1e-05, elementwise_affine=True)\n",
      "                (attn): WindowAttention(\n",
      "                  (qkv): Linear(in_features=256, out_features=768, bias=True)\n",
      "                  (attn_drop): Dropout(p=0.0, inplace=False)\n",
      "                  (proj): Linear(in_features=256, out_features=256, bias=True)\n",
      "                  (proj_drop): Dropout(p=0.0, inplace=False)\n",
      "                  (softmax): Softmax(dim=-1)\n",
      "                )\n",
      "                (drop_path1): DropPath(drop_prob=0.009)\n",
      "                (norm2): LayerNorm((256,), eps=1e-05, elementwise_affine=True)\n",
      "                (mlp): Mlp(\n",
      "                  (fc1): Linear(in_features=256, out_features=1024, bias=True)\n",
      "                  (act): GELU(approximate='none')\n",
      "                  (drop1): Dropout(p=0.0, inplace=False)\n",
      "                  (norm): Identity()\n",
      "                  (fc2): Linear(in_features=1024, out_features=256, bias=True)\n",
      "                  (drop2): Dropout(p=0.0, inplace=False)\n",
      "                )\n",
      "                (drop_path2): DropPath(drop_prob=0.009)\n",
      "              )\n",
      "              (1): SwinTransformerBlock(\n",
      "                (norm1): LayerNorm((256,), eps=1e-05, elementwise_affine=True)\n",
      "                (attn): WindowAttention(\n",
      "                  (qkv): Linear(in_features=256, out_features=768, bias=True)\n",
      "                  (attn_drop): Dropout(p=0.0, inplace=False)\n",
      "                  (proj): Linear(in_features=256, out_features=256, bias=True)\n",
      "                  (proj_drop): Dropout(p=0.0, inplace=False)\n",
      "                  (softmax): Softmax(dim=-1)\n",
      "                )\n",
      "                (drop_path1): DropPath(drop_prob=0.013)\n",
      "                (norm2): LayerNorm((256,), eps=1e-05, elementwise_affine=True)\n",
      "                (mlp): Mlp(\n",
      "                  (fc1): Linear(in_features=256, out_features=1024, bias=True)\n",
      "                  (act): GELU(approximate='none')\n",
      "                  (drop1): Dropout(p=0.0, inplace=False)\n",
      "                  (norm): Identity()\n",
      "                  (fc2): Linear(in_features=1024, out_features=256, bias=True)\n",
      "                  (drop2): Dropout(p=0.0, inplace=False)\n",
      "                )\n",
      "                (drop_path2): DropPath(drop_prob=0.013)\n",
      "              )\n",
      "            )\n",
      "          )\n",
      "          (2): SwinTransformerStage(\n",
      "            (downsample): PatchMerging(\n",
      "              (norm): LayerNorm((1024,), eps=1e-05, elementwise_affine=True)\n",
      "              (reduction): Linear(in_features=1024, out_features=512, bias=False)\n",
      "            )\n",
      "            (blocks): Sequential(\n",
      "              (0): SwinTransformerBlock(\n",
      "                (norm1): LayerNorm((512,), eps=1e-05, elementwise_affine=True)\n",
      "                (attn): WindowAttention(\n",
      "                  (qkv): Linear(in_features=512, out_features=1536, bias=True)\n",
      "                  (attn_drop): Dropout(p=0.0, inplace=False)\n",
      "                  (proj): Linear(in_features=512, out_features=512, bias=True)\n",
      "                  (proj_drop): Dropout(p=0.0, inplace=False)\n",
      "                  (softmax): Softmax(dim=-1)\n",
      "                )\n",
      "                (drop_path1): DropPath(drop_prob=0.017)\n",
      "                (norm2): LayerNorm((512,), eps=1e-05, elementwise_affine=True)\n",
      "                (mlp): Mlp(\n",
      "                  (fc1): Linear(in_features=512, out_features=2048, bias=True)\n",
      "                  (act): GELU(approximate='none')\n",
      "                  (drop1): Dropout(p=0.0, inplace=False)\n",
      "                  (norm): Identity()\n",
      "                  (fc2): Linear(in_features=2048, out_features=512, bias=True)\n",
      "                  (drop2): Dropout(p=0.0, inplace=False)\n",
      "                )\n",
      "                (drop_path2): DropPath(drop_prob=0.017)\n",
      "              )\n",
      "              (1): SwinTransformerBlock(\n",
      "                (norm1): LayerNorm((512,), eps=1e-05, elementwise_affine=True)\n",
      "                (attn): WindowAttention(\n",
      "                  (qkv): Linear(in_features=512, out_features=1536, bias=True)\n",
      "                  (attn_drop): Dropout(p=0.0, inplace=False)\n",
      "                  (proj): Linear(in_features=512, out_features=512, bias=True)\n",
      "                  (proj_drop): Dropout(p=0.0, inplace=False)\n",
      "                  (softmax): Softmax(dim=-1)\n",
      "                )\n",
      "                (drop_path1): DropPath(drop_prob=0.022)\n",
      "                (norm2): LayerNorm((512,), eps=1e-05, elementwise_affine=True)\n",
      "                (mlp): Mlp(\n",
      "                  (fc1): Linear(in_features=512, out_features=2048, bias=True)\n",
      "                  (act): GELU(approximate='none')\n",
      "                  (drop1): Dropout(p=0.0, inplace=False)\n",
      "                  (norm): Identity()\n",
      "                  (fc2): Linear(in_features=2048, out_features=512, bias=True)\n",
      "                  (drop2): Dropout(p=0.0, inplace=False)\n",
      "                )\n",
      "                (drop_path2): DropPath(drop_prob=0.022)\n",
      "              )\n",
      "              (2): SwinTransformerBlock(\n",
      "                (norm1): LayerNorm((512,), eps=1e-05, elementwise_affine=True)\n",
      "                (attn): WindowAttention(\n",
      "                  (qkv): Linear(in_features=512, out_features=1536, bias=True)\n",
      "                  (attn_drop): Dropout(p=0.0, inplace=False)\n",
      "                  (proj): Linear(in_features=512, out_features=512, bias=True)\n",
      "                  (proj_drop): Dropout(p=0.0, inplace=False)\n",
      "                  (softmax): Softmax(dim=-1)\n",
      "                )\n",
      "                (drop_path1): DropPath(drop_prob=0.026)\n",
      "                (norm2): LayerNorm((512,), eps=1e-05, elementwise_affine=True)\n",
      "                (mlp): Mlp(\n",
      "                  (fc1): Linear(in_features=512, out_features=2048, bias=True)\n",
      "                  (act): GELU(approximate='none')\n",
      "                  (drop1): Dropout(p=0.0, inplace=False)\n",
      "                  (norm): Identity()\n",
      "                  (fc2): Linear(in_features=2048, out_features=512, bias=True)\n",
      "                  (drop2): Dropout(p=0.0, inplace=False)\n",
      "                )\n",
      "                (drop_path2): DropPath(drop_prob=0.026)\n",
      "              )\n",
      "              (3): SwinTransformerBlock(\n",
      "                (norm1): LayerNorm((512,), eps=1e-05, elementwise_affine=True)\n",
      "                (attn): WindowAttention(\n",
      "                  (qkv): Linear(in_features=512, out_features=1536, bias=True)\n",
      "                  (attn_drop): Dropout(p=0.0, inplace=False)\n",
      "                  (proj): Linear(in_features=512, out_features=512, bias=True)\n",
      "                  (proj_drop): Dropout(p=0.0, inplace=False)\n",
      "                  (softmax): Softmax(dim=-1)\n",
      "                )\n",
      "                (drop_path1): DropPath(drop_prob=0.030)\n",
      "                (norm2): LayerNorm((512,), eps=1e-05, elementwise_affine=True)\n",
      "                (mlp): Mlp(\n",
      "                  (fc1): Linear(in_features=512, out_features=2048, bias=True)\n",
      "                  (act): GELU(approximate='none')\n",
      "                  (drop1): Dropout(p=0.0, inplace=False)\n",
      "                  (norm): Identity()\n",
      "                  (fc2): Linear(in_features=2048, out_features=512, bias=True)\n",
      "                  (drop2): Dropout(p=0.0, inplace=False)\n",
      "                )\n",
      "                (drop_path2): DropPath(drop_prob=0.030)\n",
      "              )\n",
      "              (4): SwinTransformerBlock(\n",
      "                (norm1): LayerNorm((512,), eps=1e-05, elementwise_affine=True)\n",
      "                (attn): WindowAttention(\n",
      "                  (qkv): Linear(in_features=512, out_features=1536, bias=True)\n",
      "                  (attn_drop): Dropout(p=0.0, inplace=False)\n",
      "                  (proj): Linear(in_features=512, out_features=512, bias=True)\n",
      "                  (proj_drop): Dropout(p=0.0, inplace=False)\n",
      "                  (softmax): Softmax(dim=-1)\n",
      "                )\n",
      "                (drop_path1): DropPath(drop_prob=0.035)\n",
      "                (norm2): LayerNorm((512,), eps=1e-05, elementwise_affine=True)\n",
      "                (mlp): Mlp(\n",
      "                  (fc1): Linear(in_features=512, out_features=2048, bias=True)\n",
      "                  (act): GELU(approximate='none')\n",
      "                  (drop1): Dropout(p=0.0, inplace=False)\n",
      "                  (norm): Identity()\n",
      "                  (fc2): Linear(in_features=2048, out_features=512, bias=True)\n",
      "                  (drop2): Dropout(p=0.0, inplace=False)\n",
      "                )\n",
      "                (drop_path2): DropPath(drop_prob=0.035)\n",
      "              )\n",
      "              (5): SwinTransformerBlock(\n",
      "                (norm1): LayerNorm((512,), eps=1e-05, elementwise_affine=True)\n",
      "                (attn): WindowAttention(\n",
      "                  (qkv): Linear(in_features=512, out_features=1536, bias=True)\n",
      "                  (attn_drop): Dropout(p=0.0, inplace=False)\n",
      "                  (proj): Linear(in_features=512, out_features=512, bias=True)\n",
      "                  (proj_drop): Dropout(p=0.0, inplace=False)\n",
      "                  (softmax): Softmax(dim=-1)\n",
      "                )\n",
      "                (drop_path1): DropPath(drop_prob=0.039)\n",
      "                (norm2): LayerNorm((512,), eps=1e-05, elementwise_affine=True)\n",
      "                (mlp): Mlp(\n",
      "                  (fc1): Linear(in_features=512, out_features=2048, bias=True)\n",
      "                  (act): GELU(approximate='none')\n",
      "                  (drop1): Dropout(p=0.0, inplace=False)\n",
      "                  (norm): Identity()\n",
      "                  (fc2): Linear(in_features=2048, out_features=512, bias=True)\n",
      "                  (drop2): Dropout(p=0.0, inplace=False)\n",
      "                )\n",
      "                (drop_path2): DropPath(drop_prob=0.039)\n",
      "              )\n",
      "              (6): SwinTransformerBlock(\n",
      "                (norm1): LayerNorm((512,), eps=1e-05, elementwise_affine=True)\n",
      "                (attn): WindowAttention(\n",
      "                  (qkv): Linear(in_features=512, out_features=1536, bias=True)\n",
      "                  (attn_drop): Dropout(p=0.0, inplace=False)\n",
      "                  (proj): Linear(in_features=512, out_features=512, bias=True)\n",
      "                  (proj_drop): Dropout(p=0.0, inplace=False)\n",
      "                  (softmax): Softmax(dim=-1)\n",
      "                )\n",
      "                (drop_path1): DropPath(drop_prob=0.043)\n",
      "                (norm2): LayerNorm((512,), eps=1e-05, elementwise_affine=True)\n",
      "                (mlp): Mlp(\n",
      "                  (fc1): Linear(in_features=512, out_features=2048, bias=True)\n",
      "                  (act): GELU(approximate='none')\n",
      "                  (drop1): Dropout(p=0.0, inplace=False)\n",
      "                  (norm): Identity()\n",
      "                  (fc2): Linear(in_features=2048, out_features=512, bias=True)\n",
      "                  (drop2): Dropout(p=0.0, inplace=False)\n",
      "                )\n",
      "                (drop_path2): DropPath(drop_prob=0.043)\n",
      "              )\n",
      "              (7): SwinTransformerBlock(\n",
      "                (norm1): LayerNorm((512,), eps=1e-05, elementwise_affine=True)\n",
      "                (attn): WindowAttention(\n",
      "                  (qkv): Linear(in_features=512, out_features=1536, bias=True)\n",
      "                  (attn_drop): Dropout(p=0.0, inplace=False)\n",
      "                  (proj): Linear(in_features=512, out_features=512, bias=True)\n",
      "                  (proj_drop): Dropout(p=0.0, inplace=False)\n",
      "                  (softmax): Softmax(dim=-1)\n",
      "                )\n",
      "                (drop_path1): DropPath(drop_prob=0.048)\n",
      "                (norm2): LayerNorm((512,), eps=1e-05, elementwise_affine=True)\n",
      "                (mlp): Mlp(\n",
      "                  (fc1): Linear(in_features=512, out_features=2048, bias=True)\n",
      "                  (act): GELU(approximate='none')\n",
      "                  (drop1): Dropout(p=0.0, inplace=False)\n",
      "                  (norm): Identity()\n",
      "                  (fc2): Linear(in_features=2048, out_features=512, bias=True)\n",
      "                  (drop2): Dropout(p=0.0, inplace=False)\n",
      "                )\n",
      "                (drop_path2): DropPath(drop_prob=0.048)\n",
      "              )\n",
      "              (8): SwinTransformerBlock(\n",
      "                (norm1): LayerNorm((512,), eps=1e-05, elementwise_affine=True)\n",
      "                (attn): WindowAttention(\n",
      "                  (qkv): Linear(in_features=512, out_features=1536, bias=True)\n",
      "                  (attn_drop): Dropout(p=0.0, inplace=False)\n",
      "                  (proj): Linear(in_features=512, out_features=512, bias=True)\n",
      "                  (proj_drop): Dropout(p=0.0, inplace=False)\n",
      "                  (softmax): Softmax(dim=-1)\n",
      "                )\n",
      "                (drop_path1): DropPath(drop_prob=0.052)\n",
      "                (norm2): LayerNorm((512,), eps=1e-05, elementwise_affine=True)\n",
      "                (mlp): Mlp(\n",
      "                  (fc1): Linear(in_features=512, out_features=2048, bias=True)\n",
      "                  (act): GELU(approximate='none')\n",
      "                  (drop1): Dropout(p=0.0, inplace=False)\n",
      "                  (norm): Identity()\n",
      "                  (fc2): Linear(in_features=2048, out_features=512, bias=True)\n",
      "                  (drop2): Dropout(p=0.0, inplace=False)\n",
      "                )\n",
      "                (drop_path2): DropPath(drop_prob=0.052)\n",
      "              )\n",
      "              (9): SwinTransformerBlock(\n",
      "                (norm1): LayerNorm((512,), eps=1e-05, elementwise_affine=True)\n",
      "                (attn): WindowAttention(\n",
      "                  (qkv): Linear(in_features=512, out_features=1536, bias=True)\n",
      "                  (attn_drop): Dropout(p=0.0, inplace=False)\n",
      "                  (proj): Linear(in_features=512, out_features=512, bias=True)\n",
      "                  (proj_drop): Dropout(p=0.0, inplace=False)\n",
      "                  (softmax): Softmax(dim=-1)\n",
      "                )\n",
      "                (drop_path1): DropPath(drop_prob=0.057)\n",
      "                (norm2): LayerNorm((512,), eps=1e-05, elementwise_affine=True)\n",
      "                (mlp): Mlp(\n",
      "                  (fc1): Linear(in_features=512, out_features=2048, bias=True)\n",
      "                  (act): GELU(approximate='none')\n",
      "                  (drop1): Dropout(p=0.0, inplace=False)\n",
      "                  (norm): Identity()\n",
      "                  (fc2): Linear(in_features=2048, out_features=512, bias=True)\n",
      "                  (drop2): Dropout(p=0.0, inplace=False)\n",
      "                )\n",
      "                (drop_path2): DropPath(drop_prob=0.057)\n",
      "              )\n",
      "              (10): SwinTransformerBlock(\n",
      "                (norm1): LayerNorm((512,), eps=1e-05, elementwise_affine=True)\n",
      "                (attn): WindowAttention(\n",
      "                  (qkv): Linear(in_features=512, out_features=1536, bias=True)\n",
      "                  (attn_drop): Dropout(p=0.0, inplace=False)\n",
      "                  (proj): Linear(in_features=512, out_features=512, bias=True)\n",
      "                  (proj_drop): Dropout(p=0.0, inplace=False)\n",
      "                  (softmax): Softmax(dim=-1)\n",
      "                )\n",
      "                (drop_path1): DropPath(drop_prob=0.061)\n",
      "                (norm2): LayerNorm((512,), eps=1e-05, elementwise_affine=True)\n",
      "                (mlp): Mlp(\n",
      "                  (fc1): Linear(in_features=512, out_features=2048, bias=True)\n",
      "                  (act): GELU(approximate='none')\n",
      "                  (drop1): Dropout(p=0.0, inplace=False)\n",
      "                  (norm): Identity()\n",
      "                  (fc2): Linear(in_features=2048, out_features=512, bias=True)\n",
      "                  (drop2): Dropout(p=0.0, inplace=False)\n",
      "                )\n",
      "                (drop_path2): DropPath(drop_prob=0.061)\n",
      "              )\n",
      "              (11): SwinTransformerBlock(\n",
      "                (norm1): LayerNorm((512,), eps=1e-05, elementwise_affine=True)\n",
      "                (attn): WindowAttention(\n",
      "                  (qkv): Linear(in_features=512, out_features=1536, bias=True)\n",
      "                  (attn_drop): Dropout(p=0.0, inplace=False)\n",
      "                  (proj): Linear(in_features=512, out_features=512, bias=True)\n",
      "                  (proj_drop): Dropout(p=0.0, inplace=False)\n",
      "                  (softmax): Softmax(dim=-1)\n",
      "                )\n",
      "                (drop_path1): DropPath(drop_prob=0.065)\n",
      "                (norm2): LayerNorm((512,), eps=1e-05, elementwise_affine=True)\n",
      "                (mlp): Mlp(\n",
      "                  (fc1): Linear(in_features=512, out_features=2048, bias=True)\n",
      "                  (act): GELU(approximate='none')\n",
      "                  (drop1): Dropout(p=0.0, inplace=False)\n",
      "                  (norm): Identity()\n",
      "                  (fc2): Linear(in_features=2048, out_features=512, bias=True)\n",
      "                  (drop2): Dropout(p=0.0, inplace=False)\n",
      "                )\n",
      "                (drop_path2): DropPath(drop_prob=0.065)\n",
      "              )\n",
      "              (12): SwinTransformerBlock(\n",
      "                (norm1): LayerNorm((512,), eps=1e-05, elementwise_affine=True)\n",
      "                (attn): WindowAttention(\n",
      "                  (qkv): Linear(in_features=512, out_features=1536, bias=True)\n",
      "                  (attn_drop): Dropout(p=0.0, inplace=False)\n",
      "                  (proj): Linear(in_features=512, out_features=512, bias=True)\n",
      "                  (proj_drop): Dropout(p=0.0, inplace=False)\n",
      "                  (softmax): Softmax(dim=-1)\n",
      "                )\n",
      "                (drop_path1): DropPath(drop_prob=0.070)\n",
      "                (norm2): LayerNorm((512,), eps=1e-05, elementwise_affine=True)\n",
      "                (mlp): Mlp(\n",
      "                  (fc1): Linear(in_features=512, out_features=2048, bias=True)\n",
      "                  (act): GELU(approximate='none')\n",
      "                  (drop1): Dropout(p=0.0, inplace=False)\n",
      "                  (norm): Identity()\n",
      "                  (fc2): Linear(in_features=2048, out_features=512, bias=True)\n",
      "                  (drop2): Dropout(p=0.0, inplace=False)\n",
      "                )\n",
      "                (drop_path2): DropPath(drop_prob=0.070)\n",
      "              )\n",
      "              (13): SwinTransformerBlock(\n",
      "                (norm1): LayerNorm((512,), eps=1e-05, elementwise_affine=True)\n",
      "                (attn): WindowAttention(\n",
      "                  (qkv): Linear(in_features=512, out_features=1536, bias=True)\n",
      "                  (attn_drop): Dropout(p=0.0, inplace=False)\n",
      "                  (proj): Linear(in_features=512, out_features=512, bias=True)\n",
      "                  (proj_drop): Dropout(p=0.0, inplace=False)\n",
      "                  (softmax): Softmax(dim=-1)\n",
      "                )\n",
      "                (drop_path1): DropPath(drop_prob=0.074)\n",
      "                (norm2): LayerNorm((512,), eps=1e-05, elementwise_affine=True)\n",
      "                (mlp): Mlp(\n",
      "                  (fc1): Linear(in_features=512, out_features=2048, bias=True)\n",
      "                  (act): GELU(approximate='none')\n",
      "                  (drop1): Dropout(p=0.0, inplace=False)\n",
      "                  (norm): Identity()\n",
      "                  (fc2): Linear(in_features=2048, out_features=512, bias=True)\n",
      "                  (drop2): Dropout(p=0.0, inplace=False)\n",
      "                )\n",
      "                (drop_path2): DropPath(drop_prob=0.074)\n",
      "              )\n",
      "              (14): SwinTransformerBlock(\n",
      "                (norm1): LayerNorm((512,), eps=1e-05, elementwise_affine=True)\n",
      "                (attn): WindowAttention(\n",
      "                  (qkv): Linear(in_features=512, out_features=1536, bias=True)\n",
      "                  (attn_drop): Dropout(p=0.0, inplace=False)\n",
      "                  (proj): Linear(in_features=512, out_features=512, bias=True)\n",
      "                  (proj_drop): Dropout(p=0.0, inplace=False)\n",
      "                  (softmax): Softmax(dim=-1)\n",
      "                )\n",
      "                (drop_path1): DropPath(drop_prob=0.078)\n",
      "                (norm2): LayerNorm((512,), eps=1e-05, elementwise_affine=True)\n",
      "                (mlp): Mlp(\n",
      "                  (fc1): Linear(in_features=512, out_features=2048, bias=True)\n",
      "                  (act): GELU(approximate='none')\n",
      "                  (drop1): Dropout(p=0.0, inplace=False)\n",
      "                  (norm): Identity()\n",
      "                  (fc2): Linear(in_features=2048, out_features=512, bias=True)\n",
      "                  (drop2): Dropout(p=0.0, inplace=False)\n",
      "                )\n",
      "                (drop_path2): DropPath(drop_prob=0.078)\n",
      "              )\n",
      "              (15): SwinTransformerBlock(\n",
      "                (norm1): LayerNorm((512,), eps=1e-05, elementwise_affine=True)\n",
      "                (attn): WindowAttention(\n",
      "                  (qkv): Linear(in_features=512, out_features=1536, bias=True)\n",
      "                  (attn_drop): Dropout(p=0.0, inplace=False)\n",
      "                  (proj): Linear(in_features=512, out_features=512, bias=True)\n",
      "                  (proj_drop): Dropout(p=0.0, inplace=False)\n",
      "                  (softmax): Softmax(dim=-1)\n",
      "                )\n",
      "                (drop_path1): DropPath(drop_prob=0.083)\n",
      "                (norm2): LayerNorm((512,), eps=1e-05, elementwise_affine=True)\n",
      "                (mlp): Mlp(\n",
      "                  (fc1): Linear(in_features=512, out_features=2048, bias=True)\n",
      "                  (act): GELU(approximate='none')\n",
      "                  (drop1): Dropout(p=0.0, inplace=False)\n",
      "                  (norm): Identity()\n",
      "                  (fc2): Linear(in_features=2048, out_features=512, bias=True)\n",
      "                  (drop2): Dropout(p=0.0, inplace=False)\n",
      "                )\n",
      "                (drop_path2): DropPath(drop_prob=0.083)\n",
      "              )\n",
      "              (16): SwinTransformerBlock(\n",
      "                (norm1): LayerNorm((512,), eps=1e-05, elementwise_affine=True)\n",
      "                (attn): WindowAttention(\n",
      "                  (qkv): Linear(in_features=512, out_features=1536, bias=True)\n",
      "                  (attn_drop): Dropout(p=0.0, inplace=False)\n",
      "                  (proj): Linear(in_features=512, out_features=512, bias=True)\n",
      "                  (proj_drop): Dropout(p=0.0, inplace=False)\n",
      "                  (softmax): Softmax(dim=-1)\n",
      "                )\n",
      "                (drop_path1): DropPath(drop_prob=0.087)\n",
      "                (norm2): LayerNorm((512,), eps=1e-05, elementwise_affine=True)\n",
      "                (mlp): Mlp(\n",
      "                  (fc1): Linear(in_features=512, out_features=2048, bias=True)\n",
      "                  (act): GELU(approximate='none')\n",
      "                  (drop1): Dropout(p=0.0, inplace=False)\n",
      "                  (norm): Identity()\n",
      "                  (fc2): Linear(in_features=2048, out_features=512, bias=True)\n",
      "                  (drop2): Dropout(p=0.0, inplace=False)\n",
      "                )\n",
      "                (drop_path2): DropPath(drop_prob=0.087)\n",
      "              )\n",
      "              (17): SwinTransformerBlock(\n",
      "                (norm1): LayerNorm((512,), eps=1e-05, elementwise_affine=True)\n",
      "                (attn): WindowAttention(\n",
      "                  (qkv): Linear(in_features=512, out_features=1536, bias=True)\n",
      "                  (attn_drop): Dropout(p=0.0, inplace=False)\n",
      "                  (proj): Linear(in_features=512, out_features=512, bias=True)\n",
      "                  (proj_drop): Dropout(p=0.0, inplace=False)\n",
      "                  (softmax): Softmax(dim=-1)\n",
      "                )\n",
      "                (drop_path1): DropPath(drop_prob=0.091)\n",
      "                (norm2): LayerNorm((512,), eps=1e-05, elementwise_affine=True)\n",
      "                (mlp): Mlp(\n",
      "                  (fc1): Linear(in_features=512, out_features=2048, bias=True)\n",
      "                  (act): GELU(approximate='none')\n",
      "                  (drop1): Dropout(p=0.0, inplace=False)\n",
      "                  (norm): Identity()\n",
      "                  (fc2): Linear(in_features=2048, out_features=512, bias=True)\n",
      "                  (drop2): Dropout(p=0.0, inplace=False)\n",
      "                )\n",
      "                (drop_path2): DropPath(drop_prob=0.091)\n",
      "              )\n",
      "            )\n",
      "          )\n",
      "          (3): SwinTransformerStage(\n",
      "            (downsample): PatchMerging(\n",
      "              (norm): LayerNorm((2048,), eps=1e-05, elementwise_affine=True)\n",
      "              (reduction): Linear(in_features=2048, out_features=1024, bias=False)\n",
      "            )\n",
      "            (blocks): Sequential(\n",
      "              (0): SwinTransformerBlock(\n",
      "                (norm1): LayerNorm((1024,), eps=1e-05, elementwise_affine=True)\n",
      "                (attn): WindowAttention(\n",
      "                  (qkv): Linear(in_features=1024, out_features=3072, bias=True)\n",
      "                  (attn_drop): Dropout(p=0.0, inplace=False)\n",
      "                  (proj): Linear(in_features=1024, out_features=1024, bias=True)\n",
      "                  (proj_drop): Dropout(p=0.0, inplace=False)\n",
      "                  (softmax): Softmax(dim=-1)\n",
      "                )\n",
      "                (drop_path1): DropPath(drop_prob=0.096)\n",
      "                (norm2): LayerNorm((1024,), eps=1e-05, elementwise_affine=True)\n",
      "                (mlp): Mlp(\n",
      "                  (fc1): Linear(in_features=1024, out_features=4096, bias=True)\n",
      "                  (act): GELU(approximate='none')\n",
      "                  (drop1): Dropout(p=0.0, inplace=False)\n",
      "                  (norm): Identity()\n",
      "                  (fc2): Linear(in_features=4096, out_features=1024, bias=True)\n",
      "                  (drop2): Dropout(p=0.0, inplace=False)\n",
      "                )\n",
      "                (drop_path2): DropPath(drop_prob=0.096)\n",
      "              )\n",
      "              (1): SwinTransformerBlock(\n",
      "                (norm1): LayerNorm((1024,), eps=1e-05, elementwise_affine=True)\n",
      "                (attn): WindowAttention(\n",
      "                  (qkv): Linear(in_features=1024, out_features=3072, bias=True)\n",
      "                  (attn_drop): Dropout(p=0.0, inplace=False)\n",
      "                  (proj): Linear(in_features=1024, out_features=1024, bias=True)\n",
      "                  (proj_drop): Dropout(p=0.0, inplace=False)\n",
      "                  (softmax): Softmax(dim=-1)\n",
      "                )\n",
      "                (drop_path1): DropPath(drop_prob=0.100)\n",
      "                (norm2): LayerNorm((1024,), eps=1e-05, elementwise_affine=True)\n",
      "                (mlp): Mlp(\n",
      "                  (fc1): Linear(in_features=1024, out_features=4096, bias=True)\n",
      "                  (act): GELU(approximate='none')\n",
      "                  (drop1): Dropout(p=0.0, inplace=False)\n",
      "                  (norm): Identity()\n",
      "                  (fc2): Linear(in_features=4096, out_features=1024, bias=True)\n",
      "                  (drop2): Dropout(p=0.0, inplace=False)\n",
      "                )\n",
      "                (drop_path2): DropPath(drop_prob=0.100)\n",
      "              )\n",
      "            )\n",
      "          )\n",
      "        )\n",
      "        (norm): LayerNorm((1024,), eps=1e-05, elementwise_affine=True)\n",
      "        (head): ClassifierHead(\n",
      "          (global_pool): SelectAdaptivePool2d (pool_type=avg, flatten=Identity())\n",
      "          (drop): Dropout(p=0.0, inplace=False)\n",
      "          (fc): Identity()\n",
      "          (flatten): Identity()\n",
      "        )\n",
      "      )\n",
      "      (head): Linear(in_features=1024, out_features=2, bias=True)\n",
      "    )\n",
      "  )\n",
      "  (adapter): ModuleList(\n",
      "    (0): Linear(in_features=768, out_features=1024, bias=True)\n",
      "    (1): Linear(in_features=128, out_features=1024, bias=True)\n",
      "    (2): Linear(in_features=1024, out_features=1024, bias=True)\n",
      "  )\n",
      "  (fusion_mlp): Sequential(\n",
      "    (0): MLP(\n",
      "      (layers): Sequential(\n",
      "        (0): Unit(\n",
      "          (norm): LayerNorm((3072,), eps=1e-05, elementwise_affine=True)\n",
      "          (fc): Linear(in_features=3072, out_features=128, bias=True)\n",
      "          (act_fn): LeakyReLU(negative_slope=0.01)\n",
      "          (dropout): Dropout(p=0.1, inplace=False)\n",
      "        )\n",
      "      )\n",
      "    )\n",
      "  )\n",
      "  (head): Linear(in_features=128, out_features=2, bias=True)\n",
      ")\n"
     ]
    },
    {
     "name": "stdin",
     "output_type": "stream",
     "text": [
      "ipdb>  l\n"
     ]
    },
    {
     "name": "stdout",
     "output_type": "stream",
     "text": [
      "\u001b[1;32m    227 \u001b[0m        \u001b[0mPer\u001b[0m \u001b[0mtraining\u001b[0m \u001b[0mstep\u001b[0m\u001b[0;34m.\u001b[0m \u001b[0mThis\u001b[0m \u001b[0mfunction\u001b[0m \u001b[0;32mis\u001b[0m \u001b[0mregistered\u001b[0m \u001b[0mby\u001b[0m \u001b[0mLightningModule\u001b[0m\u001b[0;34m.\u001b[0m\u001b[0;34m\u001b[0m\u001b[0;34m\u001b[0m\u001b[0m\n",
      "\u001b[1;32m    228 \u001b[0m        \u001b[0mRefer\u001b[0m \u001b[0mto\u001b[0m \u001b[0mhttps\u001b[0m\u001b[0;34m:\u001b[0m\u001b[0;34m//\u001b[0m\u001b[0mlightning\u001b[0m\u001b[0;34m.\u001b[0m\u001b[0mai\u001b[0m\u001b[0;34m/\u001b[0m\u001b[0mdocs\u001b[0m\u001b[0;34m/\u001b[0m\u001b[0mpytorch\u001b[0m\u001b[0;34m/\u001b[0m\u001b[0mstable\u001b[0m\u001b[0;34m/\u001b[0m\u001b[0mcommon\u001b[0m\u001b[0;34m/\u001b[0m\u001b[0mlightning_module\u001b[0m\u001b[0;34m.\u001b[0m\u001b[0mhtml\u001b[0m\u001b[0;31m#training-loop\u001b[0m\u001b[0;34m\u001b[0m\u001b[0;34m\u001b[0m\u001b[0m\n",
      "\u001b[1;32m    229 \u001b[0m\u001b[0;34m\u001b[0m\u001b[0m\n",
      "\u001b[1;32m    230 \u001b[0m        \u001b[0mParameters\u001b[0m\u001b[0;34m\u001b[0m\u001b[0;34m\u001b[0m\u001b[0m\n",
      "\u001b[1;32m    231 \u001b[0m        \u001b[0;34m-\u001b[0m\u001b[0;34m-\u001b[0m\u001b[0;34m-\u001b[0m\u001b[0;34m-\u001b[0m\u001b[0;34m-\u001b[0m\u001b[0;34m-\u001b[0m\u001b[0;34m-\u001b[0m\u001b[0;34m-\u001b[0m\u001b[0;34m-\u001b[0m\u001b[0;34m-\u001b[0m\u001b[0;34m\u001b[0m\u001b[0;34m\u001b[0m\u001b[0m\n",
      "\u001b[1;32m    232 \u001b[0m        \u001b[0mbatch\u001b[0m\u001b[0;34m\u001b[0m\u001b[0;34m\u001b[0m\u001b[0m\n",
      "\u001b[1;32m    233 \u001b[0m            \u001b[0mA\u001b[0m \u001b[0mdictionary\u001b[0m \u001b[0mcontaining\u001b[0m \u001b[0mthe\u001b[0m \u001b[0mmini\u001b[0m\u001b[0;34m-\u001b[0m\u001b[0mbatch\u001b[0m \u001b[0mdata\u001b[0m\u001b[0;34m,\u001b[0m \u001b[0mincluding\u001b[0m \u001b[0mboth\u001b[0m \u001b[0minput\u001b[0m \u001b[0mdata\u001b[0m \u001b[0;32mand\u001b[0m\u001b[0;34m\u001b[0m\u001b[0;34m\u001b[0m\u001b[0m\n",
      "\u001b[1;32m    234 \u001b[0m            \u001b[0mground\u001b[0m\u001b[0;34m-\u001b[0m\u001b[0mtruth\u001b[0m \u001b[0mlabels\u001b[0m\u001b[0;34m.\u001b[0m \u001b[0mThe\u001b[0m \u001b[0mmini\u001b[0m\u001b[0;34m-\u001b[0m\u001b[0mbatch\u001b[0m \u001b[0mdata\u001b[0m \u001b[0mare\u001b[0m \u001b[0mpassed\u001b[0m \u001b[0mto\u001b[0m \u001b[0meach\u001b[0m \u001b[0mindividual\u001b[0m \u001b[0mmodel\u001b[0m\u001b[0;34m,\u001b[0m\u001b[0;34m\u001b[0m\u001b[0;34m\u001b[0m\u001b[0m\n",
      "\u001b[1;32m    235 \u001b[0m            \u001b[0mwhich\u001b[0m \u001b[0mindexes\u001b[0m \u001b[0mits\u001b[0m \u001b[0mrequired\u001b[0m \u001b[0minput\u001b[0m \u001b[0mdata\u001b[0m \u001b[0mby\u001b[0m \u001b[0mkeys\u001b[0m \u001b[0;32mwith\u001b[0m \u001b[0mits\u001b[0m \u001b[0mmodel\u001b[0m \u001b[0mprefix\u001b[0m\u001b[0;34m.\u001b[0m \u001b[0mThe\u001b[0m\u001b[0;34m\u001b[0m\u001b[0;34m\u001b[0m\u001b[0m\n",
      "\u001b[1;32m    236 \u001b[0m            \u001b[0mground\u001b[0m\u001b[0;34m-\u001b[0m\u001b[0mtruth\u001b[0m \u001b[0mlabels\u001b[0m \u001b[0mare\u001b[0m \u001b[0mused\u001b[0m \u001b[0mhere\u001b[0m \u001b[0mto\u001b[0m \u001b[0mcompute\u001b[0m \u001b[0mthe\u001b[0m \u001b[0mtraining\u001b[0m \u001b[0mloss\u001b[0m\u001b[0;34m.\u001b[0m\u001b[0;34m\u001b[0m\u001b[0;34m\u001b[0m\u001b[0m\n",
      "\u001b[1;32m    237 \u001b[0m        \u001b[0mbatch_idx\u001b[0m\u001b[0;34m\u001b[0m\u001b[0;34m\u001b[0m\u001b[0m\n",
      "\n"
     ]
    },
    {
     "name": "stdin",
     "output_type": "stream",
     "text": [
      "ipdb>  n\n"
     ]
    },
    {
     "name": "stderr",
     "output_type": "stream",
     "text": [
      "/Users/anidagar/miniconda3/envs/autogluon/lib/python3.10/site-packages/timm/models/swin_transformer.py:292: UserWarning: The operator 'aten::roll' is not currently supported on the MPS backend and will fall back to run on the CPU. This may have performance implications. (Triggered internally at /Users/runner/work/pytorch/pytorch/pytorch/aten/src/ATen/mps/MPSFallback.mm:11.)\n",
      "  shifted_x = torch.roll(x, shifts=(-self.shift_size[0], -self.shift_size[1]), dims=(1, 2))\n"
     ]
    },
    {
     "name": "stdout",
     "output_type": "stream",
     "text": [
      "> \u001b[0;32m/Users/anidagar/Desktop/Work/autogluon/multimodal/src/autogluon/multimodal/optimization/lit_module.py\u001b[0m(222)\u001b[0;36m_shared_step\u001b[0;34m()\u001b[0m\n",
      "\u001b[0;32m    220 \u001b[0;31m        \u001b[0;32mimport\u001b[0m \u001b[0mpdb\u001b[0m\u001b[0;34m;\u001b[0m \u001b[0mpdb\u001b[0m\u001b[0;34m.\u001b[0m\u001b[0mset_trace\u001b[0m\u001b[0;34m(\u001b[0m\u001b[0;34m)\u001b[0m\u001b[0;34m\u001b[0m\u001b[0;34m\u001b[0m\u001b[0m\n",
      "\u001b[0m\u001b[0;32m    221 \u001b[0;31m        \u001b[0moutput\u001b[0m \u001b[0;34m=\u001b[0m \u001b[0mrun_model\u001b[0m\u001b[0;34m(\u001b[0m\u001b[0mself\u001b[0m\u001b[0;34m.\u001b[0m\u001b[0mmodel\u001b[0m\u001b[0;34m,\u001b[0m \u001b[0mbatch\u001b[0m\u001b[0;34m)\u001b[0m\u001b[0;34m\u001b[0m\u001b[0;34m\u001b[0m\u001b[0m\n",
      "\u001b[0m\u001b[0;32m--> 222 \u001b[0;31m        \u001b[0mloss\u001b[0m \u001b[0;34m=\u001b[0m \u001b[0mself\u001b[0m\u001b[0;34m.\u001b[0m\u001b[0m_compute_loss\u001b[0m\u001b[0;34m(\u001b[0m\u001b[0moutput\u001b[0m\u001b[0;34m=\u001b[0m\u001b[0moutput\u001b[0m\u001b[0;34m,\u001b[0m \u001b[0mlabel\u001b[0m\u001b[0;34m=\u001b[0m\u001b[0mlabel\u001b[0m\u001b[0;34m)\u001b[0m\u001b[0;34m\u001b[0m\u001b[0;34m\u001b[0m\u001b[0m\n",
      "\u001b[0m\u001b[0;32m    223 \u001b[0;31m        \u001b[0;32mreturn\u001b[0m \u001b[0moutput\u001b[0m\u001b[0;34m,\u001b[0m \u001b[0mloss\u001b[0m\u001b[0;34m\u001b[0m\u001b[0;34m\u001b[0m\u001b[0m\n",
      "\u001b[0m\u001b[0;32m    224 \u001b[0;31m\u001b[0;34m\u001b[0m\u001b[0m\n",
      "\u001b[0m\n"
     ]
    },
    {
     "name": "stdin",
     "output_type": "stream",
     "text": [
      "ipdb>  output\n"
     ]
    },
    {
     "name": "stdout",
     "output_type": "stream",
     "text": [
      "{'timm_image': {'weight': tensor(0.1000), 'logits': tensor([[inf, inf],\n",
      "        [-inf, -inf],\n",
      "        [-inf, -inf],\n",
      "        [-inf, -inf],\n",
      "        [inf, -inf],\n",
      "        [-inf, -inf],\n",
      "        [inf, -inf],\n",
      "        [-inf, inf]], device='mps:0')}, 'fusion_mlp': {'logits': tensor([[nan, nan],\n",
      "        [nan, nan],\n",
      "        [nan, nan],\n",
      "        [nan, nan],\n",
      "        [nan, nan],\n",
      "        [nan, nan],\n",
      "        [nan, nan],\n",
      "        [nan, nan]], device='mps:0'), 'features': tensor([[nan, nan, nan,  ..., nan, nan, nan],\n",
      "        [nan, nan, nan,  ..., nan, nan, nan],\n",
      "        [nan, nan, nan,  ..., nan, nan, nan],\n",
      "        ...,\n",
      "        [nan, nan, nan,  ..., nan, nan, nan],\n",
      "        [nan, nan, nan,  ..., nan, nan, nan],\n",
      "        [nan, nan, nan,  ..., nan, nan, nan]], device='mps:0'), 'weight': tensor(1., device='mps:0')}}\n"
     ]
    },
    {
     "name": "stdin",
     "output_type": "stream",
     "text": [
      "ipdb>  l\n"
     ]
    },
    {
     "name": "stdout",
     "output_type": "stream",
     "text": [
      "\u001b[1;32m    217 \u001b[0m        \u001b[0;32mif\u001b[0m \u001b[0mself\u001b[0m\u001b[0;34m.\u001b[0m\u001b[0mmixup_fn\u001b[0m \u001b[0;32mis\u001b[0m \u001b[0;32mnot\u001b[0m \u001b[0;32mNone\u001b[0m\u001b[0;34m:\u001b[0m\u001b[0;34m\u001b[0m\u001b[0;34m\u001b[0m\u001b[0m\n",
      "\u001b[1;32m    218 \u001b[0m            \u001b[0mself\u001b[0m\u001b[0;34m.\u001b[0m\u001b[0mmixup_fn\u001b[0m\u001b[0;34m.\u001b[0m\u001b[0mmixup_enabled\u001b[0m \u001b[0;34m=\u001b[0m \u001b[0mself\u001b[0m\u001b[0;34m.\u001b[0m\u001b[0mtraining\u001b[0m \u001b[0;34m&\u001b[0m \u001b[0;34m(\u001b[0m\u001b[0mself\u001b[0m\u001b[0;34m.\u001b[0m\u001b[0mcurrent_epoch\u001b[0m \u001b[0;34m<\u001b[0m \u001b[0mself\u001b[0m\u001b[0;34m.\u001b[0m\u001b[0mhparams\u001b[0m\u001b[0;34m.\u001b[0m\u001b[0mmixup_off_epoch\u001b[0m\u001b[0;34m)\u001b[0m\u001b[0;34m\u001b[0m\u001b[0;34m\u001b[0m\u001b[0m\n",
      "\u001b[1;32m    219 \u001b[0m            \u001b[0mbatch\u001b[0m\u001b[0;34m,\u001b[0m \u001b[0mlabel\u001b[0m \u001b[0;34m=\u001b[0m \u001b[0mmultimodel_mixup\u001b[0m\u001b[0;34m(\u001b[0m\u001b[0mbatch\u001b[0m\u001b[0;34m=\u001b[0m\u001b[0mbatch\u001b[0m\u001b[0;34m,\u001b[0m \u001b[0mmodel\u001b[0m\u001b[0;34m=\u001b[0m\u001b[0mself\u001b[0m\u001b[0;34m.\u001b[0m\u001b[0mmodel\u001b[0m\u001b[0;34m,\u001b[0m \u001b[0mmixup_fn\u001b[0m\u001b[0;34m=\u001b[0m\u001b[0mself\u001b[0m\u001b[0;34m.\u001b[0m\u001b[0mmixup_fn\u001b[0m\u001b[0;34m)\u001b[0m\u001b[0;34m\u001b[0m\u001b[0;34m\u001b[0m\u001b[0m\n",
      "\u001b[1;32m    220 \u001b[0m        \u001b[0;32mimport\u001b[0m \u001b[0mpdb\u001b[0m\u001b[0;34m;\u001b[0m \u001b[0mpdb\u001b[0m\u001b[0;34m.\u001b[0m\u001b[0mset_trace\u001b[0m\u001b[0;34m(\u001b[0m\u001b[0;34m)\u001b[0m\u001b[0;34m\u001b[0m\u001b[0;34m\u001b[0m\u001b[0m\n",
      "\u001b[1;32m    221 \u001b[0m        \u001b[0moutput\u001b[0m \u001b[0;34m=\u001b[0m \u001b[0mrun_model\u001b[0m\u001b[0;34m(\u001b[0m\u001b[0mself\u001b[0m\u001b[0;34m.\u001b[0m\u001b[0mmodel\u001b[0m\u001b[0;34m,\u001b[0m \u001b[0mbatch\u001b[0m\u001b[0;34m)\u001b[0m\u001b[0;34m\u001b[0m\u001b[0;34m\u001b[0m\u001b[0m\n",
      "\u001b[0;32m--> 222 \u001b[0;31m        \u001b[0mloss\u001b[0m \u001b[0;34m=\u001b[0m \u001b[0mself\u001b[0m\u001b[0;34m.\u001b[0m\u001b[0m_compute_loss\u001b[0m\u001b[0;34m(\u001b[0m\u001b[0moutput\u001b[0m\u001b[0;34m=\u001b[0m\u001b[0moutput\u001b[0m\u001b[0;34m,\u001b[0m \u001b[0mlabel\u001b[0m\u001b[0;34m=\u001b[0m\u001b[0mlabel\u001b[0m\u001b[0;34m)\u001b[0m\u001b[0;34m\u001b[0m\u001b[0;34m\u001b[0m\u001b[0m\n",
      "\u001b[0m\u001b[1;32m    223 \u001b[0m        \u001b[0;32mreturn\u001b[0m \u001b[0moutput\u001b[0m\u001b[0;34m,\u001b[0m \u001b[0mloss\u001b[0m\u001b[0;34m\u001b[0m\u001b[0;34m\u001b[0m\u001b[0m\n",
      "\u001b[1;32m    224 \u001b[0m\u001b[0;34m\u001b[0m\u001b[0m\n",
      "\u001b[1;32m    225 \u001b[0m    \u001b[0;32mdef\u001b[0m \u001b[0mtraining_step\u001b[0m\u001b[0;34m(\u001b[0m\u001b[0mself\u001b[0m\u001b[0;34m,\u001b[0m \u001b[0mbatch\u001b[0m\u001b[0;34m,\u001b[0m \u001b[0mbatch_idx\u001b[0m\u001b[0;34m)\u001b[0m\u001b[0;34m:\u001b[0m\u001b[0;34m\u001b[0m\u001b[0;34m\u001b[0m\u001b[0m\n",
      "\u001b[1;32m    226 \u001b[0m        \"\"\"\n",
      "\u001b[1;32m    227 \u001b[0m        \u001b[0mPer\u001b[0m \u001b[0mtraining\u001b[0m \u001b[0mstep\u001b[0m\u001b[0;34m.\u001b[0m \u001b[0mThis\u001b[0m \u001b[0mfunction\u001b[0m \u001b[0;32mis\u001b[0m \u001b[0mregistered\u001b[0m \u001b[0mby\u001b[0m \u001b[0mLightningModule\u001b[0m\u001b[0;34m.\u001b[0m\u001b[0;34m\u001b[0m\u001b[0;34m\u001b[0m\u001b[0m\n",
      "\n"
     ]
    },
    {
     "name": "stdin",
     "output_type": "stream",
     "text": [
      "ipdb>  label\n"
     ]
    },
    {
     "name": "stdout",
     "output_type": "stream",
     "text": [
      "tensor([0, 1, 0, 0, 1, 0, 0, 0], device='mps:0')\n"
     ]
    },
    {
     "name": "stdin",
     "output_type": "stream",
     "text": [
      "ipdb>  self._compute_loss(output=output, label=label)\n"
     ]
    },
    {
     "name": "stdout",
     "output_type": "stream",
     "text": [
      "tensor(nan, device='mps:0')\n"
     ]
    },
    {
     "name": "stdin",
     "output_type": "stream",
     "text": [
      "ipdb>  c\n"
     ]
    },
    {
     "name": "stdout",
     "output_type": "stream",
     "text": [
      "> \u001b[0;32m/Users/anidagar/Desktop/Work/autogluon/multimodal/src/autogluon/multimodal/optimization/lit_module.py\u001b[0m(221)\u001b[0;36m_shared_step\u001b[0;34m()\u001b[0m\n",
      "\u001b[0;32m    219 \u001b[0;31m            \u001b[0mbatch\u001b[0m\u001b[0;34m,\u001b[0m \u001b[0mlabel\u001b[0m \u001b[0;34m=\u001b[0m \u001b[0mmultimodel_mixup\u001b[0m\u001b[0;34m(\u001b[0m\u001b[0mbatch\u001b[0m\u001b[0;34m=\u001b[0m\u001b[0mbatch\u001b[0m\u001b[0;34m,\u001b[0m \u001b[0mmodel\u001b[0m\u001b[0;34m=\u001b[0m\u001b[0mself\u001b[0m\u001b[0;34m.\u001b[0m\u001b[0mmodel\u001b[0m\u001b[0;34m,\u001b[0m \u001b[0mmixup_fn\u001b[0m\u001b[0;34m=\u001b[0m\u001b[0mself\u001b[0m\u001b[0;34m.\u001b[0m\u001b[0mmixup_fn\u001b[0m\u001b[0;34m)\u001b[0m\u001b[0;34m\u001b[0m\u001b[0;34m\u001b[0m\u001b[0m\n",
      "\u001b[0m\u001b[0;32m    220 \u001b[0;31m        \u001b[0;32mimport\u001b[0m \u001b[0mpdb\u001b[0m\u001b[0;34m;\u001b[0m \u001b[0mpdb\u001b[0m\u001b[0;34m.\u001b[0m\u001b[0mset_trace\u001b[0m\u001b[0;34m(\u001b[0m\u001b[0;34m)\u001b[0m\u001b[0;34m\u001b[0m\u001b[0;34m\u001b[0m\u001b[0m\n",
      "\u001b[0m\u001b[0;32m--> 221 \u001b[0;31m        \u001b[0moutput\u001b[0m \u001b[0;34m=\u001b[0m \u001b[0mrun_model\u001b[0m\u001b[0;34m(\u001b[0m\u001b[0mself\u001b[0m\u001b[0;34m.\u001b[0m\u001b[0mmodel\u001b[0m\u001b[0;34m,\u001b[0m \u001b[0mbatch\u001b[0m\u001b[0;34m)\u001b[0m\u001b[0;34m\u001b[0m\u001b[0;34m\u001b[0m\u001b[0m\n",
      "\u001b[0m\u001b[0;32m    222 \u001b[0;31m        \u001b[0mloss\u001b[0m \u001b[0;34m=\u001b[0m \u001b[0mself\u001b[0m\u001b[0;34m.\u001b[0m\u001b[0m_compute_loss\u001b[0m\u001b[0;34m(\u001b[0m\u001b[0moutput\u001b[0m\u001b[0;34m=\u001b[0m\u001b[0moutput\u001b[0m\u001b[0;34m,\u001b[0m \u001b[0mlabel\u001b[0m\u001b[0;34m=\u001b[0m\u001b[0mlabel\u001b[0m\u001b[0;34m)\u001b[0m\u001b[0;34m\u001b[0m\u001b[0;34m\u001b[0m\u001b[0m\n",
      "\u001b[0m\u001b[0;32m    223 \u001b[0;31m        \u001b[0;32mreturn\u001b[0m \u001b[0moutput\u001b[0m\u001b[0;34m,\u001b[0m \u001b[0mloss\u001b[0m\u001b[0;34m\u001b[0m\u001b[0;34m\u001b[0m\u001b[0m\n",
      "\u001b[0m\n"
     ]
    },
    {
     "name": "stdin",
     "output_type": "stream",
     "text": [
      "ipdb>  n\n"
     ]
    },
    {
     "name": "stdout",
     "output_type": "stream",
     "text": [
      "> \u001b[0;32m/Users/anidagar/Desktop/Work/autogluon/multimodal/src/autogluon/multimodal/optimization/lit_module.py\u001b[0m(222)\u001b[0;36m_shared_step\u001b[0;34m()\u001b[0m\n",
      "\u001b[0;32m    220 \u001b[0;31m        \u001b[0;32mimport\u001b[0m \u001b[0mpdb\u001b[0m\u001b[0;34m;\u001b[0m \u001b[0mpdb\u001b[0m\u001b[0;34m.\u001b[0m\u001b[0mset_trace\u001b[0m\u001b[0;34m(\u001b[0m\u001b[0;34m)\u001b[0m\u001b[0;34m\u001b[0m\u001b[0;34m\u001b[0m\u001b[0m\n",
      "\u001b[0m\u001b[0;32m    221 \u001b[0;31m        \u001b[0moutput\u001b[0m \u001b[0;34m=\u001b[0m \u001b[0mrun_model\u001b[0m\u001b[0;34m(\u001b[0m\u001b[0mself\u001b[0m\u001b[0;34m.\u001b[0m\u001b[0mmodel\u001b[0m\u001b[0;34m,\u001b[0m \u001b[0mbatch\u001b[0m\u001b[0;34m)\u001b[0m\u001b[0;34m\u001b[0m\u001b[0;34m\u001b[0m\u001b[0m\n",
      "\u001b[0m\u001b[0;32m--> 222 \u001b[0;31m        \u001b[0mloss\u001b[0m \u001b[0;34m=\u001b[0m \u001b[0mself\u001b[0m\u001b[0;34m.\u001b[0m\u001b[0m_compute_loss\u001b[0m\u001b[0;34m(\u001b[0m\u001b[0moutput\u001b[0m\u001b[0;34m=\u001b[0m\u001b[0moutput\u001b[0m\u001b[0;34m,\u001b[0m \u001b[0mlabel\u001b[0m\u001b[0;34m=\u001b[0m\u001b[0mlabel\u001b[0m\u001b[0;34m)\u001b[0m\u001b[0;34m\u001b[0m\u001b[0;34m\u001b[0m\u001b[0m\n",
      "\u001b[0m\u001b[0;32m    223 \u001b[0;31m        \u001b[0;32mreturn\u001b[0m \u001b[0moutput\u001b[0m\u001b[0;34m,\u001b[0m \u001b[0mloss\u001b[0m\u001b[0;34m\u001b[0m\u001b[0;34m\u001b[0m\u001b[0m\n",
      "\u001b[0m\u001b[0;32m    224 \u001b[0;31m\u001b[0;34m\u001b[0m\u001b[0m\n",
      "\u001b[0m\n"
     ]
    },
    {
     "name": "stdin",
     "output_type": "stream",
     "text": [
      "ipdb>  output\n"
     ]
    },
    {
     "name": "stdout",
     "output_type": "stream",
     "text": [
      "{'timm_image': {'weight': tensor(0.1000), 'logits': tensor([[-inf, -inf],\n",
      "        [-inf, -inf],\n",
      "        [inf, -inf],\n",
      "        [-inf, -inf],\n",
      "        [inf, -inf],\n",
      "        [inf, inf],\n",
      "        [-inf, inf],\n",
      "        [inf, inf]], device='mps:0')}, 'fusion_mlp': {'logits': tensor([[nan, nan],\n",
      "        [nan, nan],\n",
      "        [nan, nan],\n",
      "        [nan, nan],\n",
      "        [nan, nan],\n",
      "        [nan, nan],\n",
      "        [nan, nan],\n",
      "        [nan, nan]], device='mps:0'), 'features': tensor([[nan, nan, nan,  ..., nan, nan, nan],\n",
      "        [nan, nan, nan,  ..., nan, nan, nan],\n",
      "        [nan, nan, nan,  ..., nan, nan, nan],\n",
      "        ...,\n",
      "        [nan, nan, nan,  ..., nan, nan, nan],\n",
      "        [nan, nan, nan,  ..., nan, nan, nan],\n",
      "        [nan, nan, nan,  ..., nan, nan, nan]], device='mps:0'), 'weight': tensor(1., device='mps:0')}}\n"
     ]
    },
    {
     "name": "stdin",
     "output_type": "stream",
     "text": [
      "ipdb>  n\n"
     ]
    },
    {
     "name": "stdout",
     "output_type": "stream",
     "text": [
      "> \u001b[0;32m/Users/anidagar/Desktop/Work/autogluon/multimodal/src/autogluon/multimodal/optimization/lit_module.py\u001b[0m(223)\u001b[0;36m_shared_step\u001b[0;34m()\u001b[0m\n",
      "\u001b[0;32m    221 \u001b[0;31m        \u001b[0moutput\u001b[0m \u001b[0;34m=\u001b[0m \u001b[0mrun_model\u001b[0m\u001b[0;34m(\u001b[0m\u001b[0mself\u001b[0m\u001b[0;34m.\u001b[0m\u001b[0mmodel\u001b[0m\u001b[0;34m,\u001b[0m \u001b[0mbatch\u001b[0m\u001b[0;34m)\u001b[0m\u001b[0;34m\u001b[0m\u001b[0;34m\u001b[0m\u001b[0m\n",
      "\u001b[0m\u001b[0;32m    222 \u001b[0;31m        \u001b[0mloss\u001b[0m \u001b[0;34m=\u001b[0m \u001b[0mself\u001b[0m\u001b[0;34m.\u001b[0m\u001b[0m_compute_loss\u001b[0m\u001b[0;34m(\u001b[0m\u001b[0moutput\u001b[0m\u001b[0;34m=\u001b[0m\u001b[0moutput\u001b[0m\u001b[0;34m,\u001b[0m \u001b[0mlabel\u001b[0m\u001b[0;34m=\u001b[0m\u001b[0mlabel\u001b[0m\u001b[0;34m)\u001b[0m\u001b[0;34m\u001b[0m\u001b[0;34m\u001b[0m\u001b[0m\n",
      "\u001b[0m\u001b[0;32m--> 223 \u001b[0;31m        \u001b[0;32mreturn\u001b[0m \u001b[0moutput\u001b[0m\u001b[0;34m,\u001b[0m \u001b[0mloss\u001b[0m\u001b[0;34m\u001b[0m\u001b[0;34m\u001b[0m\u001b[0m\n",
      "\u001b[0m\u001b[0;32m    224 \u001b[0;31m\u001b[0;34m\u001b[0m\u001b[0m\n",
      "\u001b[0m\u001b[0;32m    225 \u001b[0;31m    \u001b[0;32mdef\u001b[0m \u001b[0mtraining_step\u001b[0m\u001b[0;34m(\u001b[0m\u001b[0mself\u001b[0m\u001b[0;34m,\u001b[0m \u001b[0mbatch\u001b[0m\u001b[0;34m,\u001b[0m \u001b[0mbatch_idx\u001b[0m\u001b[0;34m)\u001b[0m\u001b[0;34m:\u001b[0m\u001b[0;34m\u001b[0m\u001b[0;34m\u001b[0m\u001b[0m\n",
      "\u001b[0m\n"
     ]
    },
    {
     "name": "stdin",
     "output_type": "stream",
     "text": [
      "ipdb>  loss\n"
     ]
    },
    {
     "name": "stdout",
     "output_type": "stream",
     "text": [
      "tensor(nan, device='mps:0')\n"
     ]
    },
    {
     "name": "stdin",
     "output_type": "stream",
     "text": [
      "ipdb>  c\n"
     ]
    },
    {
     "data": {
      "application/vnd.jupyter.widget-view+json": {
       "model_id": "e9f1468253aa41c8a3369d0aa7e1f158",
       "version_major": 2,
       "version_minor": 0
      },
      "text/plain": [
       "Training: 0it [00:00, ?it/s]"
      ]
     },
     "metadata": {},
     "output_type": "display_data"
    },
    {
     "name": "stdout",
     "output_type": "stream",
     "text": [
      "> \u001b[0;32m/Users/anidagar/Desktop/Work/autogluon/multimodal/src/autogluon/multimodal/optimization/lit_module.py\u001b[0m(221)\u001b[0;36m_shared_step\u001b[0;34m()\u001b[0m\n",
      "\u001b[0;32m    219 \u001b[0;31m            \u001b[0mbatch\u001b[0m\u001b[0;34m,\u001b[0m \u001b[0mlabel\u001b[0m \u001b[0;34m=\u001b[0m \u001b[0mmultimodel_mixup\u001b[0m\u001b[0;34m(\u001b[0m\u001b[0mbatch\u001b[0m\u001b[0;34m=\u001b[0m\u001b[0mbatch\u001b[0m\u001b[0;34m,\u001b[0m \u001b[0mmodel\u001b[0m\u001b[0;34m=\u001b[0m\u001b[0mself\u001b[0m\u001b[0;34m.\u001b[0m\u001b[0mmodel\u001b[0m\u001b[0;34m,\u001b[0m \u001b[0mmixup_fn\u001b[0m\u001b[0;34m=\u001b[0m\u001b[0mself\u001b[0m\u001b[0;34m.\u001b[0m\u001b[0mmixup_fn\u001b[0m\u001b[0;34m)\u001b[0m\u001b[0;34m\u001b[0m\u001b[0;34m\u001b[0m\u001b[0m\n",
      "\u001b[0m\u001b[0;32m    220 \u001b[0;31m        \u001b[0;32mimport\u001b[0m \u001b[0mpdb\u001b[0m\u001b[0;34m;\u001b[0m \u001b[0mpdb\u001b[0m\u001b[0;34m.\u001b[0m\u001b[0mset_trace\u001b[0m\u001b[0;34m(\u001b[0m\u001b[0;34m)\u001b[0m\u001b[0;34m\u001b[0m\u001b[0;34m\u001b[0m\u001b[0m\n",
      "\u001b[0m\u001b[0;32m--> 221 \u001b[0;31m        \u001b[0moutput\u001b[0m \u001b[0;34m=\u001b[0m \u001b[0mrun_model\u001b[0m\u001b[0;34m(\u001b[0m\u001b[0mself\u001b[0m\u001b[0;34m.\u001b[0m\u001b[0mmodel\u001b[0m\u001b[0;34m,\u001b[0m \u001b[0mbatch\u001b[0m\u001b[0;34m)\u001b[0m\u001b[0;34m\u001b[0m\u001b[0;34m\u001b[0m\u001b[0m\n",
      "\u001b[0m\u001b[0;32m    222 \u001b[0;31m        \u001b[0mloss\u001b[0m \u001b[0;34m=\u001b[0m \u001b[0mself\u001b[0m\u001b[0;34m.\u001b[0m\u001b[0m_compute_loss\u001b[0m\u001b[0;34m(\u001b[0m\u001b[0moutput\u001b[0m\u001b[0;34m=\u001b[0m\u001b[0moutput\u001b[0m\u001b[0;34m,\u001b[0m \u001b[0mlabel\u001b[0m\u001b[0;34m=\u001b[0m\u001b[0mlabel\u001b[0m\u001b[0;34m)\u001b[0m\u001b[0;34m\u001b[0m\u001b[0;34m\u001b[0m\u001b[0m\n",
      "\u001b[0m\u001b[0;32m    223 \u001b[0;31m        \u001b[0;32mreturn\u001b[0m \u001b[0moutput\u001b[0m\u001b[0;34m,\u001b[0m \u001b[0mloss\u001b[0m\u001b[0;34m\u001b[0m\u001b[0;34m\u001b[0m\u001b[0m\n",
      "\u001b[0m\n"
     ]
    },
    {
     "name": "stdin",
     "output_type": "stream",
     "text": [
      "ipdb>  loss\n"
     ]
    },
    {
     "name": "stdout",
     "output_type": "stream",
     "text": [
      "*** NameError: name 'loss' is not defined\n"
     ]
    },
    {
     "name": "stdin",
     "output_type": "stream",
     "text": [
      "ipdb>  n\n"
     ]
    },
    {
     "name": "stdout",
     "output_type": "stream",
     "text": [
      "> \u001b[0;32m/Users/anidagar/Desktop/Work/autogluon/multimodal/src/autogluon/multimodal/optimization/lit_module.py\u001b[0m(222)\u001b[0;36m_shared_step\u001b[0;34m()\u001b[0m\n",
      "\u001b[0;32m    220 \u001b[0;31m        \u001b[0;32mimport\u001b[0m \u001b[0mpdb\u001b[0m\u001b[0;34m;\u001b[0m \u001b[0mpdb\u001b[0m\u001b[0;34m.\u001b[0m\u001b[0mset_trace\u001b[0m\u001b[0;34m(\u001b[0m\u001b[0;34m)\u001b[0m\u001b[0;34m\u001b[0m\u001b[0;34m\u001b[0m\u001b[0m\n",
      "\u001b[0m\u001b[0;32m    221 \u001b[0;31m        \u001b[0moutput\u001b[0m \u001b[0;34m=\u001b[0m \u001b[0mrun_model\u001b[0m\u001b[0;34m(\u001b[0m\u001b[0mself\u001b[0m\u001b[0;34m.\u001b[0m\u001b[0mmodel\u001b[0m\u001b[0;34m,\u001b[0m \u001b[0mbatch\u001b[0m\u001b[0;34m)\u001b[0m\u001b[0;34m\u001b[0m\u001b[0;34m\u001b[0m\u001b[0m\n",
      "\u001b[0m\u001b[0;32m--> 222 \u001b[0;31m        \u001b[0mloss\u001b[0m \u001b[0;34m=\u001b[0m \u001b[0mself\u001b[0m\u001b[0;34m.\u001b[0m\u001b[0m_compute_loss\u001b[0m\u001b[0;34m(\u001b[0m\u001b[0moutput\u001b[0m\u001b[0;34m=\u001b[0m\u001b[0moutput\u001b[0m\u001b[0;34m,\u001b[0m \u001b[0mlabel\u001b[0m\u001b[0;34m=\u001b[0m\u001b[0mlabel\u001b[0m\u001b[0;34m)\u001b[0m\u001b[0;34m\u001b[0m\u001b[0;34m\u001b[0m\u001b[0m\n",
      "\u001b[0m\u001b[0;32m    223 \u001b[0;31m        \u001b[0;32mreturn\u001b[0m \u001b[0moutput\u001b[0m\u001b[0;34m,\u001b[0m \u001b[0mloss\u001b[0m\u001b[0;34m\u001b[0m\u001b[0;34m\u001b[0m\u001b[0m\n",
      "\u001b[0m\u001b[0;32m    224 \u001b[0;31m\u001b[0;34m\u001b[0m\u001b[0m\n",
      "\u001b[0m\n"
     ]
    },
    {
     "name": "stdin",
     "output_type": "stream",
     "text": [
      "ipdb>  output\n"
     ]
    },
    {
     "name": "stdout",
     "output_type": "stream",
     "text": [
      "{'timm_image': {'weight': tensor(0.1000), 'logits': tensor([[inf, -inf],\n",
      "        [inf, -inf],\n",
      "        [inf, -inf],\n",
      "        [inf, -inf],\n",
      "        [inf, inf],\n",
      "        [inf, inf],\n",
      "        [-inf, -inf],\n",
      "        [-inf, inf]], device='mps:0', grad_fn=<DivBackward0>)}, 'fusion_mlp': {'logits': tensor([[nan, nan],\n",
      "        [nan, nan],\n",
      "        [nan, nan],\n",
      "        [nan, nan],\n",
      "        [nan, nan],\n",
      "        [nan, nan],\n",
      "        [nan, nan],\n",
      "        [nan, nan]], device='mps:0', grad_fn=<LinearBackward0>), 'features': tensor([[nan, nan, nan,  ..., nan, nan, nan],\n",
      "        [nan, nan, nan,  ..., nan, nan, nan],\n",
      "        [nan, nan, nan,  ..., nan, nan, nan],\n",
      "        ...,\n",
      "        [nan, nan, nan,  ..., nan, nan, nan],\n",
      "        [nan, nan, nan,  ..., nan, nan, nan],\n",
      "        [nan, nan, nan,  ..., nan, nan, nan]], device='mps:0',\n",
      "       grad_fn=<MulBackward0>), 'weight': tensor(1., device='mps:0')}}\n"
     ]
    },
    {
     "name": "stdin",
     "output_type": "stream",
     "text": [
      "ipdb>  c\n"
     ]
    },
    {
     "name": "stdout",
     "output_type": "stream",
     "text": [
      "> \u001b[0;32m/Users/anidagar/Desktop/Work/autogluon/multimodal/src/autogluon/multimodal/optimization/lit_module.py\u001b[0m(221)\u001b[0;36m_shared_step\u001b[0;34m()\u001b[0m\n",
      "\u001b[0;32m    219 \u001b[0;31m            \u001b[0mbatch\u001b[0m\u001b[0;34m,\u001b[0m \u001b[0mlabel\u001b[0m \u001b[0;34m=\u001b[0m \u001b[0mmultimodel_mixup\u001b[0m\u001b[0;34m(\u001b[0m\u001b[0mbatch\u001b[0m\u001b[0;34m=\u001b[0m\u001b[0mbatch\u001b[0m\u001b[0;34m,\u001b[0m \u001b[0mmodel\u001b[0m\u001b[0;34m=\u001b[0m\u001b[0mself\u001b[0m\u001b[0;34m.\u001b[0m\u001b[0mmodel\u001b[0m\u001b[0;34m,\u001b[0m \u001b[0mmixup_fn\u001b[0m\u001b[0;34m=\u001b[0m\u001b[0mself\u001b[0m\u001b[0;34m.\u001b[0m\u001b[0mmixup_fn\u001b[0m\u001b[0;34m)\u001b[0m\u001b[0;34m\u001b[0m\u001b[0;34m\u001b[0m\u001b[0m\n",
      "\u001b[0m\u001b[0;32m    220 \u001b[0;31m        \u001b[0;32mimport\u001b[0m \u001b[0mpdb\u001b[0m\u001b[0;34m;\u001b[0m \u001b[0mpdb\u001b[0m\u001b[0;34m.\u001b[0m\u001b[0mset_trace\u001b[0m\u001b[0;34m(\u001b[0m\u001b[0;34m)\u001b[0m\u001b[0;34m\u001b[0m\u001b[0;34m\u001b[0m\u001b[0m\n",
      "\u001b[0m\u001b[0;32m--> 221 \u001b[0;31m        \u001b[0moutput\u001b[0m \u001b[0;34m=\u001b[0m \u001b[0mrun_model\u001b[0m\u001b[0;34m(\u001b[0m\u001b[0mself\u001b[0m\u001b[0;34m.\u001b[0m\u001b[0mmodel\u001b[0m\u001b[0;34m,\u001b[0m \u001b[0mbatch\u001b[0m\u001b[0;34m)\u001b[0m\u001b[0;34m\u001b[0m\u001b[0;34m\u001b[0m\u001b[0m\n",
      "\u001b[0m\u001b[0;32m    222 \u001b[0;31m        \u001b[0mloss\u001b[0m \u001b[0;34m=\u001b[0m \u001b[0mself\u001b[0m\u001b[0;34m.\u001b[0m\u001b[0m_compute_loss\u001b[0m\u001b[0;34m(\u001b[0m\u001b[0moutput\u001b[0m\u001b[0;34m=\u001b[0m\u001b[0moutput\u001b[0m\u001b[0;34m,\u001b[0m \u001b[0mlabel\u001b[0m\u001b[0;34m=\u001b[0m\u001b[0mlabel\u001b[0m\u001b[0;34m)\u001b[0m\u001b[0;34m\u001b[0m\u001b[0;34m\u001b[0m\u001b[0m\n",
      "\u001b[0m\u001b[0;32m    223 \u001b[0;31m        \u001b[0;32mreturn\u001b[0m \u001b[0moutput\u001b[0m\u001b[0;34m,\u001b[0m \u001b[0mloss\u001b[0m\u001b[0;34m\u001b[0m\u001b[0;34m\u001b[0m\u001b[0m\n",
      "\u001b[0m\n"
     ]
    },
    {
     "name": "stdin",
     "output_type": "stream",
     "text": [
      "ipdb>  loss\n"
     ]
    },
    {
     "name": "stdout",
     "output_type": "stream",
     "text": [
      "*** NameError: name 'loss' is not defined\n"
     ]
    },
    {
     "name": "stdin",
     "output_type": "stream",
     "text": [
      "ipdb>  n\n"
     ]
    },
    {
     "name": "stdout",
     "output_type": "stream",
     "text": [
      "> \u001b[0;32m/Users/anidagar/Desktop/Work/autogluon/multimodal/src/autogluon/multimodal/optimization/lit_module.py\u001b[0m(222)\u001b[0;36m_shared_step\u001b[0;34m()\u001b[0m\n",
      "\u001b[0;32m    220 \u001b[0;31m        \u001b[0;32mimport\u001b[0m \u001b[0mpdb\u001b[0m\u001b[0;34m;\u001b[0m \u001b[0mpdb\u001b[0m\u001b[0;34m.\u001b[0m\u001b[0mset_trace\u001b[0m\u001b[0;34m(\u001b[0m\u001b[0;34m)\u001b[0m\u001b[0;34m\u001b[0m\u001b[0;34m\u001b[0m\u001b[0m\n",
      "\u001b[0m\u001b[0;32m    221 \u001b[0;31m        \u001b[0moutput\u001b[0m \u001b[0;34m=\u001b[0m \u001b[0mrun_model\u001b[0m\u001b[0;34m(\u001b[0m\u001b[0mself\u001b[0m\u001b[0;34m.\u001b[0m\u001b[0mmodel\u001b[0m\u001b[0;34m,\u001b[0m \u001b[0mbatch\u001b[0m\u001b[0;34m)\u001b[0m\u001b[0;34m\u001b[0m\u001b[0;34m\u001b[0m\u001b[0m\n",
      "\u001b[0m\u001b[0;32m--> 222 \u001b[0;31m        \u001b[0mloss\u001b[0m \u001b[0;34m=\u001b[0m \u001b[0mself\u001b[0m\u001b[0;34m.\u001b[0m\u001b[0m_compute_loss\u001b[0m\u001b[0;34m(\u001b[0m\u001b[0moutput\u001b[0m\u001b[0;34m=\u001b[0m\u001b[0moutput\u001b[0m\u001b[0;34m,\u001b[0m \u001b[0mlabel\u001b[0m\u001b[0;34m=\u001b[0m\u001b[0mlabel\u001b[0m\u001b[0;34m)\u001b[0m\u001b[0;34m\u001b[0m\u001b[0;34m\u001b[0m\u001b[0m\n",
      "\u001b[0m\u001b[0;32m    223 \u001b[0;31m        \u001b[0;32mreturn\u001b[0m \u001b[0moutput\u001b[0m\u001b[0;34m,\u001b[0m \u001b[0mloss\u001b[0m\u001b[0;34m\u001b[0m\u001b[0;34m\u001b[0m\u001b[0m\n",
      "\u001b[0m\u001b[0;32m    224 \u001b[0;31m\u001b[0;34m\u001b[0m\u001b[0m\n",
      "\u001b[0m\n"
     ]
    },
    {
     "name": "stdin",
     "output_type": "stream",
     "text": [
      "ipdb>  output\n"
     ]
    },
    {
     "name": "stdout",
     "output_type": "stream",
     "text": [
      "{'timm_image': {'weight': tensor(0.1000), 'logits': tensor([[inf, inf],\n",
      "        [-inf, inf],\n",
      "        [-inf, -inf],\n",
      "        [-inf, inf],\n",
      "        [-inf, inf],\n",
      "        [-inf, -inf],\n",
      "        [-inf, -inf],\n",
      "        [-inf, inf]], device='mps:0', grad_fn=<DivBackward0>)}, 'fusion_mlp': {'logits': tensor([[nan, nan],\n",
      "        [nan, nan],\n",
      "        [nan, nan],\n",
      "        [nan, nan],\n",
      "        [nan, nan],\n",
      "        [nan, nan],\n",
      "        [nan, nan],\n",
      "        [nan, nan]], device='mps:0', grad_fn=<LinearBackward0>), 'features': tensor([[nan, nan, nan,  ..., nan, nan, nan],\n",
      "        [nan, nan, nan,  ..., nan, nan, nan],\n",
      "        [nan, nan, nan,  ..., nan, nan, nan],\n",
      "        ...,\n",
      "        [nan, nan, nan,  ..., nan, nan, nan],\n",
      "        [nan, nan, nan,  ..., nan, nan, nan],\n",
      "        [nan, nan, nan,  ..., nan, nan, nan]], device='mps:0',\n",
      "       grad_fn=<MulBackward0>), 'weight': tensor(1., device='mps:0')}}\n"
     ]
    },
    {
     "name": "stdin",
     "output_type": "stream",
     "text": [
      "ipdb>  c\n"
     ]
    },
    {
     "name": "stdout",
     "output_type": "stream",
     "text": [
      "> \u001b[0;32m/Users/anidagar/Desktop/Work/autogluon/multimodal/src/autogluon/multimodal/optimization/lit_module.py\u001b[0m(221)\u001b[0;36m_shared_step\u001b[0;34m()\u001b[0m\n",
      "\u001b[0;32m    219 \u001b[0;31m            \u001b[0mbatch\u001b[0m\u001b[0;34m,\u001b[0m \u001b[0mlabel\u001b[0m \u001b[0;34m=\u001b[0m \u001b[0mmultimodel_mixup\u001b[0m\u001b[0;34m(\u001b[0m\u001b[0mbatch\u001b[0m\u001b[0;34m=\u001b[0m\u001b[0mbatch\u001b[0m\u001b[0;34m,\u001b[0m \u001b[0mmodel\u001b[0m\u001b[0;34m=\u001b[0m\u001b[0mself\u001b[0m\u001b[0;34m.\u001b[0m\u001b[0mmodel\u001b[0m\u001b[0;34m,\u001b[0m \u001b[0mmixup_fn\u001b[0m\u001b[0;34m=\u001b[0m\u001b[0mself\u001b[0m\u001b[0;34m.\u001b[0m\u001b[0mmixup_fn\u001b[0m\u001b[0;34m)\u001b[0m\u001b[0;34m\u001b[0m\u001b[0;34m\u001b[0m\u001b[0m\n",
      "\u001b[0m\u001b[0;32m    220 \u001b[0;31m        \u001b[0;32mimport\u001b[0m \u001b[0mpdb\u001b[0m\u001b[0;34m;\u001b[0m \u001b[0mpdb\u001b[0m\u001b[0;34m.\u001b[0m\u001b[0mset_trace\u001b[0m\u001b[0;34m(\u001b[0m\u001b[0;34m)\u001b[0m\u001b[0;34m\u001b[0m\u001b[0;34m\u001b[0m\u001b[0m\n",
      "\u001b[0m\u001b[0;32m--> 221 \u001b[0;31m        \u001b[0moutput\u001b[0m \u001b[0;34m=\u001b[0m \u001b[0mrun_model\u001b[0m\u001b[0;34m(\u001b[0m\u001b[0mself\u001b[0m\u001b[0;34m.\u001b[0m\u001b[0mmodel\u001b[0m\u001b[0;34m,\u001b[0m \u001b[0mbatch\u001b[0m\u001b[0;34m)\u001b[0m\u001b[0;34m\u001b[0m\u001b[0;34m\u001b[0m\u001b[0m\n",
      "\u001b[0m\u001b[0;32m    222 \u001b[0;31m        \u001b[0mloss\u001b[0m \u001b[0;34m=\u001b[0m \u001b[0mself\u001b[0m\u001b[0;34m.\u001b[0m\u001b[0m_compute_loss\u001b[0m\u001b[0;34m(\u001b[0m\u001b[0moutput\u001b[0m\u001b[0;34m=\u001b[0m\u001b[0moutput\u001b[0m\u001b[0;34m,\u001b[0m \u001b[0mlabel\u001b[0m\u001b[0;34m=\u001b[0m\u001b[0mlabel\u001b[0m\u001b[0;34m)\u001b[0m\u001b[0;34m\u001b[0m\u001b[0;34m\u001b[0m\u001b[0m\n",
      "\u001b[0m\u001b[0;32m    223 \u001b[0;31m        \u001b[0;32mreturn\u001b[0m \u001b[0moutput\u001b[0m\u001b[0;34m,\u001b[0m \u001b[0mloss\u001b[0m\u001b[0;34m\u001b[0m\u001b[0;34m\u001b[0m\u001b[0m\n",
      "\u001b[0m\n"
     ]
    },
    {
     "name": "stdin",
     "output_type": "stream",
     "text": [
      "ipdb>  c\n"
     ]
    },
    {
     "name": "stdout",
     "output_type": "stream",
     "text": [
      "> \u001b[0;32m/Users/anidagar/Desktop/Work/autogluon/multimodal/src/autogluon/multimodal/optimization/lit_module.py\u001b[0m(221)\u001b[0;36m_shared_step\u001b[0;34m()\u001b[0m\n",
      "\u001b[0;32m    219 \u001b[0;31m            \u001b[0mbatch\u001b[0m\u001b[0;34m,\u001b[0m \u001b[0mlabel\u001b[0m \u001b[0;34m=\u001b[0m \u001b[0mmultimodel_mixup\u001b[0m\u001b[0;34m(\u001b[0m\u001b[0mbatch\u001b[0m\u001b[0;34m=\u001b[0m\u001b[0mbatch\u001b[0m\u001b[0;34m,\u001b[0m \u001b[0mmodel\u001b[0m\u001b[0;34m=\u001b[0m\u001b[0mself\u001b[0m\u001b[0;34m.\u001b[0m\u001b[0mmodel\u001b[0m\u001b[0;34m,\u001b[0m \u001b[0mmixup_fn\u001b[0m\u001b[0;34m=\u001b[0m\u001b[0mself\u001b[0m\u001b[0;34m.\u001b[0m\u001b[0mmixup_fn\u001b[0m\u001b[0;34m)\u001b[0m\u001b[0;34m\u001b[0m\u001b[0;34m\u001b[0m\u001b[0m\n",
      "\u001b[0m\u001b[0;32m    220 \u001b[0;31m        \u001b[0;32mimport\u001b[0m \u001b[0mpdb\u001b[0m\u001b[0;34m;\u001b[0m \u001b[0mpdb\u001b[0m\u001b[0;34m.\u001b[0m\u001b[0mset_trace\u001b[0m\u001b[0;34m(\u001b[0m\u001b[0;34m)\u001b[0m\u001b[0;34m\u001b[0m\u001b[0;34m\u001b[0m\u001b[0m\n",
      "\u001b[0m\u001b[0;32m--> 221 \u001b[0;31m        \u001b[0moutput\u001b[0m \u001b[0;34m=\u001b[0m \u001b[0mrun_model\u001b[0m\u001b[0;34m(\u001b[0m\u001b[0mself\u001b[0m\u001b[0;34m.\u001b[0m\u001b[0mmodel\u001b[0m\u001b[0;34m,\u001b[0m \u001b[0mbatch\u001b[0m\u001b[0;34m)\u001b[0m\u001b[0;34m\u001b[0m\u001b[0;34m\u001b[0m\u001b[0m\n",
      "\u001b[0m\u001b[0;32m    222 \u001b[0;31m        \u001b[0mloss\u001b[0m \u001b[0;34m=\u001b[0m \u001b[0mself\u001b[0m\u001b[0;34m.\u001b[0m\u001b[0m_compute_loss\u001b[0m\u001b[0;34m(\u001b[0m\u001b[0moutput\u001b[0m\u001b[0;34m=\u001b[0m\u001b[0moutput\u001b[0m\u001b[0;34m,\u001b[0m \u001b[0mlabel\u001b[0m\u001b[0;34m=\u001b[0m\u001b[0mlabel\u001b[0m\u001b[0;34m)\u001b[0m\u001b[0;34m\u001b[0m\u001b[0;34m\u001b[0m\u001b[0m\n",
      "\u001b[0m\u001b[0;32m    223 \u001b[0;31m        \u001b[0;32mreturn\u001b[0m \u001b[0moutput\u001b[0m\u001b[0;34m,\u001b[0m \u001b[0mloss\u001b[0m\u001b[0;34m\u001b[0m\u001b[0;34m\u001b[0m\u001b[0m\n",
      "\u001b[0m\n"
     ]
    },
    {
     "name": "stdin",
     "output_type": "stream",
     "text": [
      "ipdb>  c\n"
     ]
    },
    {
     "name": "stdout",
     "output_type": "stream",
     "text": [
      "> \u001b[0;32m/Users/anidagar/Desktop/Work/autogluon/multimodal/src/autogluon/multimodal/optimization/lit_module.py\u001b[0m(221)\u001b[0;36m_shared_step\u001b[0;34m()\u001b[0m\n",
      "\u001b[0;32m    219 \u001b[0;31m            \u001b[0mbatch\u001b[0m\u001b[0;34m,\u001b[0m \u001b[0mlabel\u001b[0m \u001b[0;34m=\u001b[0m \u001b[0mmultimodel_mixup\u001b[0m\u001b[0;34m(\u001b[0m\u001b[0mbatch\u001b[0m\u001b[0;34m=\u001b[0m\u001b[0mbatch\u001b[0m\u001b[0;34m,\u001b[0m \u001b[0mmodel\u001b[0m\u001b[0;34m=\u001b[0m\u001b[0mself\u001b[0m\u001b[0;34m.\u001b[0m\u001b[0mmodel\u001b[0m\u001b[0;34m,\u001b[0m \u001b[0mmixup_fn\u001b[0m\u001b[0;34m=\u001b[0m\u001b[0mself\u001b[0m\u001b[0;34m.\u001b[0m\u001b[0mmixup_fn\u001b[0m\u001b[0;34m)\u001b[0m\u001b[0;34m\u001b[0m\u001b[0;34m\u001b[0m\u001b[0m\n",
      "\u001b[0m\u001b[0;32m    220 \u001b[0;31m        \u001b[0;32mimport\u001b[0m \u001b[0mpdb\u001b[0m\u001b[0;34m;\u001b[0m \u001b[0mpdb\u001b[0m\u001b[0;34m.\u001b[0m\u001b[0mset_trace\u001b[0m\u001b[0;34m(\u001b[0m\u001b[0;34m)\u001b[0m\u001b[0;34m\u001b[0m\u001b[0;34m\u001b[0m\u001b[0m\n",
      "\u001b[0m\u001b[0;32m--> 221 \u001b[0;31m        \u001b[0moutput\u001b[0m \u001b[0;34m=\u001b[0m \u001b[0mrun_model\u001b[0m\u001b[0;34m(\u001b[0m\u001b[0mself\u001b[0m\u001b[0;34m.\u001b[0m\u001b[0mmodel\u001b[0m\u001b[0;34m,\u001b[0m \u001b[0mbatch\u001b[0m\u001b[0;34m)\u001b[0m\u001b[0;34m\u001b[0m\u001b[0;34m\u001b[0m\u001b[0m\n",
      "\u001b[0m\u001b[0;32m    222 \u001b[0;31m        \u001b[0mloss\u001b[0m \u001b[0;34m=\u001b[0m \u001b[0mself\u001b[0m\u001b[0;34m.\u001b[0m\u001b[0m_compute_loss\u001b[0m\u001b[0;34m(\u001b[0m\u001b[0moutput\u001b[0m\u001b[0;34m=\u001b[0m\u001b[0moutput\u001b[0m\u001b[0;34m,\u001b[0m \u001b[0mlabel\u001b[0m\u001b[0;34m=\u001b[0m\u001b[0mlabel\u001b[0m\u001b[0;34m)\u001b[0m\u001b[0;34m\u001b[0m\u001b[0;34m\u001b[0m\u001b[0m\n",
      "\u001b[0m\u001b[0;32m    223 \u001b[0;31m        \u001b[0;32mreturn\u001b[0m \u001b[0moutput\u001b[0m\u001b[0;34m,\u001b[0m \u001b[0mloss\u001b[0m\u001b[0;34m\u001b[0m\u001b[0;34m\u001b[0m\u001b[0m\n",
      "\u001b[0m\n"
     ]
    },
    {
     "name": "stdin",
     "output_type": "stream",
     "text": [
      "ipdb>  c\n"
     ]
    },
    {
     "name": "stdout",
     "output_type": "stream",
     "text": [
      "> \u001b[0;32m/Users/anidagar/Desktop/Work/autogluon/multimodal/src/autogluon/multimodal/optimization/lit_module.py\u001b[0m(221)\u001b[0;36m_shared_step\u001b[0;34m()\u001b[0m\n",
      "\u001b[0;32m    219 \u001b[0;31m            \u001b[0mbatch\u001b[0m\u001b[0;34m,\u001b[0m \u001b[0mlabel\u001b[0m \u001b[0;34m=\u001b[0m \u001b[0mmultimodel_mixup\u001b[0m\u001b[0;34m(\u001b[0m\u001b[0mbatch\u001b[0m\u001b[0;34m=\u001b[0m\u001b[0mbatch\u001b[0m\u001b[0;34m,\u001b[0m \u001b[0mmodel\u001b[0m\u001b[0;34m=\u001b[0m\u001b[0mself\u001b[0m\u001b[0;34m.\u001b[0m\u001b[0mmodel\u001b[0m\u001b[0;34m,\u001b[0m \u001b[0mmixup_fn\u001b[0m\u001b[0;34m=\u001b[0m\u001b[0mself\u001b[0m\u001b[0;34m.\u001b[0m\u001b[0mmixup_fn\u001b[0m\u001b[0;34m)\u001b[0m\u001b[0;34m\u001b[0m\u001b[0;34m\u001b[0m\u001b[0m\n",
      "\u001b[0m\u001b[0;32m    220 \u001b[0;31m        \u001b[0;32mimport\u001b[0m \u001b[0mpdb\u001b[0m\u001b[0;34m;\u001b[0m \u001b[0mpdb\u001b[0m\u001b[0;34m.\u001b[0m\u001b[0mset_trace\u001b[0m\u001b[0;34m(\u001b[0m\u001b[0;34m)\u001b[0m\u001b[0;34m\u001b[0m\u001b[0;34m\u001b[0m\u001b[0m\n",
      "\u001b[0m\u001b[0;32m--> 221 \u001b[0;31m        \u001b[0moutput\u001b[0m \u001b[0;34m=\u001b[0m \u001b[0mrun_model\u001b[0m\u001b[0;34m(\u001b[0m\u001b[0mself\u001b[0m\u001b[0;34m.\u001b[0m\u001b[0mmodel\u001b[0m\u001b[0;34m,\u001b[0m \u001b[0mbatch\u001b[0m\u001b[0;34m)\u001b[0m\u001b[0;34m\u001b[0m\u001b[0;34m\u001b[0m\u001b[0m\n",
      "\u001b[0m\u001b[0;32m    222 \u001b[0;31m        \u001b[0mloss\u001b[0m \u001b[0;34m=\u001b[0m \u001b[0mself\u001b[0m\u001b[0;34m.\u001b[0m\u001b[0m_compute_loss\u001b[0m\u001b[0;34m(\u001b[0m\u001b[0moutput\u001b[0m\u001b[0;34m=\u001b[0m\u001b[0moutput\u001b[0m\u001b[0;34m,\u001b[0m \u001b[0mlabel\u001b[0m\u001b[0;34m=\u001b[0m\u001b[0mlabel\u001b[0m\u001b[0;34m)\u001b[0m\u001b[0;34m\u001b[0m\u001b[0;34m\u001b[0m\u001b[0m\n",
      "\u001b[0m\u001b[0;32m    223 \u001b[0;31m        \u001b[0;32mreturn\u001b[0m \u001b[0moutput\u001b[0m\u001b[0;34m,\u001b[0m \u001b[0mloss\u001b[0m\u001b[0;34m\u001b[0m\u001b[0;34m\u001b[0m\u001b[0m\n",
      "\u001b[0m\n"
     ]
    },
    {
     "name": "stdin",
     "output_type": "stream",
     "text": [
      "ipdb>  output\n"
     ]
    },
    {
     "name": "stdout",
     "output_type": "stream",
     "text": [
      "*** NameError: name 'output' is not defined\n"
     ]
    },
    {
     "name": "stdin",
     "output_type": "stream",
     "text": [
      "ipdb>  n\n"
     ]
    },
    {
     "name": "stdout",
     "output_type": "stream",
     "text": [
      "> \u001b[0;32m/Users/anidagar/Desktop/Work/autogluon/multimodal/src/autogluon/multimodal/optimization/lit_module.py\u001b[0m(222)\u001b[0;36m_shared_step\u001b[0;34m()\u001b[0m\n",
      "\u001b[0;32m    220 \u001b[0;31m        \u001b[0;32mimport\u001b[0m \u001b[0mpdb\u001b[0m\u001b[0;34m;\u001b[0m \u001b[0mpdb\u001b[0m\u001b[0;34m.\u001b[0m\u001b[0mset_trace\u001b[0m\u001b[0;34m(\u001b[0m\u001b[0;34m)\u001b[0m\u001b[0;34m\u001b[0m\u001b[0;34m\u001b[0m\u001b[0m\n",
      "\u001b[0m\u001b[0;32m    221 \u001b[0;31m        \u001b[0moutput\u001b[0m \u001b[0;34m=\u001b[0m \u001b[0mrun_model\u001b[0m\u001b[0;34m(\u001b[0m\u001b[0mself\u001b[0m\u001b[0;34m.\u001b[0m\u001b[0mmodel\u001b[0m\u001b[0;34m,\u001b[0m \u001b[0mbatch\u001b[0m\u001b[0;34m)\u001b[0m\u001b[0;34m\u001b[0m\u001b[0;34m\u001b[0m\u001b[0m\n",
      "\u001b[0m\u001b[0;32m--> 222 \u001b[0;31m        \u001b[0mloss\u001b[0m \u001b[0;34m=\u001b[0m \u001b[0mself\u001b[0m\u001b[0;34m.\u001b[0m\u001b[0m_compute_loss\u001b[0m\u001b[0;34m(\u001b[0m\u001b[0moutput\u001b[0m\u001b[0;34m=\u001b[0m\u001b[0moutput\u001b[0m\u001b[0;34m,\u001b[0m \u001b[0mlabel\u001b[0m\u001b[0;34m=\u001b[0m\u001b[0mlabel\u001b[0m\u001b[0;34m)\u001b[0m\u001b[0;34m\u001b[0m\u001b[0;34m\u001b[0m\u001b[0m\n",
      "\u001b[0m\u001b[0;32m    223 \u001b[0;31m        \u001b[0;32mreturn\u001b[0m \u001b[0moutput\u001b[0m\u001b[0;34m,\u001b[0m \u001b[0mloss\u001b[0m\u001b[0;34m\u001b[0m\u001b[0;34m\u001b[0m\u001b[0m\n",
      "\u001b[0m\u001b[0;32m    224 \u001b[0;31m\u001b[0;34m\u001b[0m\u001b[0m\n",
      "\u001b[0m\n"
     ]
    },
    {
     "name": "stdin",
     "output_type": "stream",
     "text": [
      "ipdb>  output\n"
     ]
    },
    {
     "name": "stdout",
     "output_type": "stream",
     "text": [
      "{'timm_image': {'weight': tensor(0.1000), 'logits': tensor([[-inf, -inf],\n",
      "        [-inf, -inf],\n",
      "        [-inf, inf],\n",
      "        [inf, -inf],\n",
      "        [-inf, inf],\n",
      "        [inf, inf],\n",
      "        [inf, -inf],\n",
      "        [-inf, -inf]], device='mps:0', grad_fn=<DivBackward0>)}, 'fusion_mlp': {'logits': tensor([[nan, nan],\n",
      "        [nan, nan],\n",
      "        [nan, nan],\n",
      "        [nan, nan],\n",
      "        [nan, nan],\n",
      "        [nan, nan],\n",
      "        [nan, nan],\n",
      "        [nan, nan]], device='mps:0', grad_fn=<LinearBackward0>), 'features': tensor([[nan, nan, nan,  ..., nan, nan, nan],\n",
      "        [nan, nan, nan,  ..., nan, nan, nan],\n",
      "        [nan, nan, nan,  ..., nan, nan, nan],\n",
      "        ...,\n",
      "        [nan, nan, nan,  ..., nan, nan, nan],\n",
      "        [nan, nan, nan,  ..., nan, nan, nan],\n",
      "        [nan, nan, nan,  ..., nan, nan, nan]], device='mps:0',\n",
      "       grad_fn=<MulBackward0>), 'weight': tensor(1., device='mps:0')}}\n"
     ]
    },
    {
     "name": "stdin",
     "output_type": "stream",
     "text": [
      "ipdb>  q\n"
     ]
    }
   ],
   "source": [
    "from autogluon.multimodal import MultiModalPredictor\n",
    "\n",
    "predictor = MultiModalPredictor(label=label_col, problem_type='classification').fit(\n",
    "    train_data=train_data,\n",
    "    time_limit=120\n",
    ")"
   ]
  },
  {
   "cell_type": "code",
   "execution_count": null,
   "id": "2d1f8171-5260-41e4-8fd7-ab4e1c9fa0f2",
   "metadata": {},
   "outputs": [],
   "source": [
    "from autogluon.multimodal import MultiModalPredictor\n",
    "predictor = MultiModalPredictor.load(\"/Users/anidagar/Desktop/Work/autogluon/experimental/experimental/AutogluonModels/ag-20231022_224902\")"
   ]
  },
  {
   "cell_type": "code",
   "execution_count": null,
   "id": "6aff52b6-fe26-4778-8547-130fd4813f4e",
   "metadata": {},
   "outputs": [],
   "source": [
    "predictions = predictor.predict(test_data.drop(columns=label_col))\n",
    "predictions[:5]"
   ]
  },
  {
   "cell_type": "code",
   "execution_count": 8,
   "id": "7c9f82e8-53e7-464a-8ad4-eb2252a9530f",
   "metadata": {},
   "outputs": [
    {
     "data": {
      "application/vnd.jupyter.widget-view+json": {
       "model_id": "646522aa7aea4c1083aafbe72215ac83",
       "version_major": 2,
       "version_minor": 0
      },
      "text/plain": [
       "Predicting: 0it [00:00, ?it/s]"
      ]
     },
     "metadata": {},
     "output_type": "display_data"
    },
    {
     "data": {
      "text/html": [
       "<div>\n",
       "<style scoped>\n",
       "    .dataframe tbody tr th:only-of-type {\n",
       "        vertical-align: middle;\n",
       "    }\n",
       "\n",
       "    .dataframe tbody tr th {\n",
       "        vertical-align: top;\n",
       "    }\n",
       "\n",
       "    .dataframe thead th {\n",
       "        text-align: right;\n",
       "    }\n",
       "</style>\n",
       "<table border=\"1\" class=\"dataframe\">\n",
       "  <thead>\n",
       "    <tr style=\"text-align: right;\">\n",
       "      <th></th>\n",
       "      <th>0</th>\n",
       "      <th>1</th>\n",
       "    </tr>\n",
       "  </thead>\n",
       "  <tbody>\n",
       "    <tr>\n",
       "      <th>8</th>\n",
       "      <td>0.5</td>\n",
       "      <td>0.5</td>\n",
       "    </tr>\n",
       "    <tr>\n",
       "      <th>70</th>\n",
       "      <td>0.5</td>\n",
       "      <td>0.5</td>\n",
       "    </tr>\n",
       "    <tr>\n",
       "      <th>82</th>\n",
       "      <td>0.5</td>\n",
       "      <td>0.5</td>\n",
       "    </tr>\n",
       "    <tr>\n",
       "      <th>28</th>\n",
       "      <td>0.5</td>\n",
       "      <td>0.5</td>\n",
       "    </tr>\n",
       "    <tr>\n",
       "      <th>63</th>\n",
       "      <td>0.5</td>\n",
       "      <td>0.5</td>\n",
       "    </tr>\n",
       "  </tbody>\n",
       "</table>\n",
       "</div>"
      ],
      "text/plain": [
       "      0    1\n",
       "8   0.5  0.5\n",
       "70  0.5  0.5\n",
       "82  0.5  0.5\n",
       "28  0.5  0.5\n",
       "63  0.5  0.5"
      ]
     },
     "execution_count": 8,
     "metadata": {},
     "output_type": "execute_result"
    }
   ],
   "source": [
    "probs = predictor.predict_proba(test_data.drop(columns=label_col))\n",
    "probs[:5]"
   ]
  },
  {
   "cell_type": "code",
   "execution_count": 11,
   "id": "621e928d-e35c-401e-8d40-41d91404e453",
   "metadata": {},
   "outputs": [
    {
     "data": {
      "application/vnd.jupyter.widget-view+json": {
       "model_id": "55db277feff145cdafd1914391841a38",
       "version_major": 2,
       "version_minor": 0
      },
      "text/plain": [
       "Predicting: 0it [00:00, ?it/s]"
      ]
     },
     "metadata": {},
     "output_type": "display_data"
    },
    {
     "data": {
      "text/plain": [
       "{'roc_auc': 0.5}"
      ]
     },
     "execution_count": 11,
     "metadata": {},
     "output_type": "execute_result"
    }
   ],
   "source": [
    "scores = predictor.evaluate(test_data, metrics=[\"roc_auc\"])\n",
    "scores"
   ]
  },
  {
   "cell_type": "code",
   "execution_count": 13,
   "id": "aca90563-5503-4920-912f-242d7e7c7dc7",
   "metadata": {},
   "outputs": [
    {
     "data": {
      "text/plain": [
       "'AdoptionSpeed'"
      ]
     },
     "execution_count": 13,
     "metadata": {},
     "output_type": "execute_result"
    }
   ],
   "source": [
    "label_col"
   ]
  },
  {
   "cell_type": "code",
   "execution_count": 14,
   "id": "f4096c4b-963f-4427-84c4-0288c2deb716",
   "metadata": {},
   "outputs": [
    {
     "data": {
      "text/plain": [
       "['AdoptionSpeed', 'PhotoAmt']"
      ]
     },
     "execution_count": 14,
     "metadata": {},
     "output_type": "execute_result"
    }
   ],
   "source": [
    "multilabel_col = ['AdoptionSpeed', 'PhotoAmt']\n",
    "multilabel_col"
   ]
  },
  {
   "cell_type": "code",
   "execution_count": 26,
   "id": "a433527a-4cdc-4f8f-8d89-d4305192435d",
   "metadata": {},
   "outputs": [],
   "source": [
    "_multi_label = True if isinstance(multilabel_col, list) and len(label_col)>1 else False"
   ]
  },
  {
   "cell_type": "code",
   "execution_count": 27,
   "id": "06dab473-81fe-4973-80c6-0e3a05be6bfa",
   "metadata": {},
   "outputs": [
    {
     "data": {
      "text/plain": [
       "True"
      ]
     },
     "execution_count": 27,
     "metadata": {},
     "output_type": "execute_result"
    }
   ],
   "source": [
    "_multi_label"
   ]
  },
  {
   "cell_type": "code",
   "execution_count": 23,
   "id": "8f12adfd-8d8a-4e1a-9953-8188858f1830",
   "metadata": {},
   "outputs": [
    {
     "data": {
      "text/plain": [
       "True"
      ]
     },
     "execution_count": 23,
     "metadata": {},
     "output_type": "execute_result"
    }
   ],
   "source": [
    "isinstance(multilabel_col, list)"
   ]
  },
  {
   "cell_type": "code",
   "execution_count": 2,
   "id": "43fa0ffd-6503-4474-9e36-dc157b785e06",
   "metadata": {},
   "outputs": [],
   "source": []
  },
  {
   "cell_type": "code",
   "execution_count": 6,
   "id": "6755db2d-aaed-493d-95df-0f1818a5fc31",
   "metadata": {},
   "outputs": [],
   "source": []
  },
  {
   "cell_type": "code",
   "execution_count": 10,
   "id": "f639ea94-9409-48c2-910b-ecf3e3c306fa",
   "metadata": {},
   "outputs": [
    {
     "name": "stderr",
     "output_type": "stream",
     "text": [
      "Loaded data from: https://autogluon.s3.amazonaws.com/datasets/Inc/train.csv | Columns = 15 / 15 | Rows = 39073 -> 39073\n"
     ]
    },
    {
     "data": {
      "text/html": [
       "<div>\n",
       "<style scoped>\n",
       "    .dataframe tbody tr th:only-of-type {\n",
       "        vertical-align: middle;\n",
       "    }\n",
       "\n",
       "    .dataframe tbody tr th {\n",
       "        vertical-align: top;\n",
       "    }\n",
       "\n",
       "    .dataframe thead th {\n",
       "        text-align: right;\n",
       "    }\n",
       "</style>\n",
       "<table border=\"1\" class=\"dataframe\">\n",
       "  <thead>\n",
       "    <tr style=\"text-align: right;\">\n",
       "      <th></th>\n",
       "      <th>age</th>\n",
       "      <th>workclass</th>\n",
       "      <th>fnlwgt</th>\n",
       "      <th>education</th>\n",
       "      <th>education-num</th>\n",
       "      <th>marital-status</th>\n",
       "      <th>occupation</th>\n",
       "      <th>relationship</th>\n",
       "      <th>race</th>\n",
       "      <th>sex</th>\n",
       "      <th>capital-gain</th>\n",
       "      <th>capital-loss</th>\n",
       "      <th>hours-per-week</th>\n",
       "      <th>native-country</th>\n",
       "      <th>class</th>\n",
       "    </tr>\n",
       "  </thead>\n",
       "  <tbody>\n",
       "    <tr>\n",
       "      <th>6118</th>\n",
       "      <td>51</td>\n",
       "      <td>Private</td>\n",
       "      <td>39264</td>\n",
       "      <td>Some-college</td>\n",
       "      <td>10</td>\n",
       "      <td>Married-civ-spouse</td>\n",
       "      <td>Exec-managerial</td>\n",
       "      <td>Wife</td>\n",
       "      <td>White</td>\n",
       "      <td>Female</td>\n",
       "      <td>0</td>\n",
       "      <td>0</td>\n",
       "      <td>40</td>\n",
       "      <td>United-States</td>\n",
       "      <td>&gt;50K</td>\n",
       "    </tr>\n",
       "    <tr>\n",
       "      <th>23204</th>\n",
       "      <td>58</td>\n",
       "      <td>Private</td>\n",
       "      <td>51662</td>\n",
       "      <td>10th</td>\n",
       "      <td>6</td>\n",
       "      <td>Married-civ-spouse</td>\n",
       "      <td>Other-service</td>\n",
       "      <td>Wife</td>\n",
       "      <td>White</td>\n",
       "      <td>Female</td>\n",
       "      <td>0</td>\n",
       "      <td>0</td>\n",
       "      <td>8</td>\n",
       "      <td>United-States</td>\n",
       "      <td>&lt;=50K</td>\n",
       "    </tr>\n",
       "    <tr>\n",
       "      <th>29590</th>\n",
       "      <td>40</td>\n",
       "      <td>Private</td>\n",
       "      <td>326310</td>\n",
       "      <td>Some-college</td>\n",
       "      <td>10</td>\n",
       "      <td>Married-civ-spouse</td>\n",
       "      <td>Craft-repair</td>\n",
       "      <td>Husband</td>\n",
       "      <td>White</td>\n",
       "      <td>Male</td>\n",
       "      <td>0</td>\n",
       "      <td>0</td>\n",
       "      <td>44</td>\n",
       "      <td>United-States</td>\n",
       "      <td>&lt;=50K</td>\n",
       "    </tr>\n",
       "    <tr>\n",
       "      <th>18116</th>\n",
       "      <td>37</td>\n",
       "      <td>Private</td>\n",
       "      <td>222450</td>\n",
       "      <td>HS-grad</td>\n",
       "      <td>9</td>\n",
       "      <td>Never-married</td>\n",
       "      <td>Sales</td>\n",
       "      <td>Not-in-family</td>\n",
       "      <td>White</td>\n",
       "      <td>Male</td>\n",
       "      <td>0</td>\n",
       "      <td>2339</td>\n",
       "      <td>40</td>\n",
       "      <td>El-Salvador</td>\n",
       "      <td>&lt;=50K</td>\n",
       "    </tr>\n",
       "    <tr>\n",
       "      <th>33964</th>\n",
       "      <td>62</td>\n",
       "      <td>Private</td>\n",
       "      <td>109190</td>\n",
       "      <td>Bachelors</td>\n",
       "      <td>13</td>\n",
       "      <td>Married-civ-spouse</td>\n",
       "      <td>Exec-managerial</td>\n",
       "      <td>Husband</td>\n",
       "      <td>White</td>\n",
       "      <td>Male</td>\n",
       "      <td>15024</td>\n",
       "      <td>0</td>\n",
       "      <td>40</td>\n",
       "      <td>United-States</td>\n",
       "      <td>&gt;50K</td>\n",
       "    </tr>\n",
       "  </tbody>\n",
       "</table>\n",
       "</div>"
      ],
      "text/plain": [
       "       age workclass  fnlwgt      education  education-num  \\\n",
       "6118    51   Private   39264   Some-college             10   \n",
       "23204   58   Private   51662           10th              6   \n",
       "29590   40   Private  326310   Some-college             10   \n",
       "18116   37   Private  222450        HS-grad              9   \n",
       "33964   62   Private  109190      Bachelors             13   \n",
       "\n",
       "            marital-status        occupation    relationship    race      sex  \\\n",
       "6118    Married-civ-spouse   Exec-managerial            Wife   White   Female   \n",
       "23204   Married-civ-spouse     Other-service            Wife   White   Female   \n",
       "29590   Married-civ-spouse      Craft-repair         Husband   White     Male   \n",
       "18116        Never-married             Sales   Not-in-family   White     Male   \n",
       "33964   Married-civ-spouse   Exec-managerial         Husband   White     Male   \n",
       "\n",
       "       capital-gain  capital-loss  hours-per-week  native-country   class  \n",
       "6118              0             0              40   United-States    >50K  \n",
       "23204             0             0               8   United-States   <=50K  \n",
       "29590             0             0              44   United-States   <=50K  \n",
       "18116             0          2339              40     El-Salvador   <=50K  \n",
       "33964         15024             0              40   United-States    >50K  "
      ]
     },
     "execution_count": 10,
     "metadata": {},
     "output_type": "execute_result"
    }
   ],
   "source": []
  },
  {
   "cell_type": "code",
   "execution_count": 12,
   "id": "cbcaaea1-66a9-41ca-bd61-e25da1ac5b76",
   "metadata": {},
   "outputs": [
    {
     "name": "stderr",
     "output_type": "stream",
     "text": [
      "No path specified. Models will be saved in: \"AutogluonModels/ag-20231004_033607\"\n"
     ]
    },
    {
     "ename": "ValueError",
     "evalue": "Provided DataFrame does not contain label column: ['education-num', 'education', 'class']",
     "output_type": "error",
     "traceback": [
      "\u001b[0;31m---------------------------------------------------------------------------\u001b[0m",
      "\u001b[0;31mValueError\u001b[0m                                Traceback (most recent call last)",
      "Cell \u001b[0;32mIn[12], line 1\u001b[0m\n\u001b[0;32m----> 1\u001b[0m predictor \u001b[38;5;241m=\u001b[39m \u001b[43mMultiModalPredictor\u001b[49m\u001b[43m(\u001b[49m\u001b[43mlabel\u001b[49m\u001b[38;5;241;43m=\u001b[39;49m\u001b[43mlabels\u001b[49m\u001b[43m)\u001b[49m\u001b[38;5;241;43m.\u001b[39;49m\u001b[43mfit\u001b[49m\u001b[43m(\u001b[49m\n\u001b[1;32m      2\u001b[0m \u001b[43m    \u001b[49m\u001b[43mtrain_data\u001b[49m\u001b[38;5;241;43m=\u001b[39;49m\u001b[43mtrain_data\u001b[49m\u001b[43m,\u001b[49m\n\u001b[1;32m      3\u001b[0m \u001b[43m    \u001b[49m\u001b[43mtime_limit\u001b[49m\u001b[38;5;241;43m=\u001b[39;49m\u001b[38;5;241;43m120\u001b[39;49m\n\u001b[1;32m      4\u001b[0m \u001b[43m)\u001b[49m\n",
      "File \u001b[0;32m~/Desktop/Work/autogluon/multimodal/src/autogluon/multimodal/predictor.py:754\u001b[0m, in \u001b[0;36mMultiModalPredictor.fit\u001b[0;34m(self, train_data, presets, config, tuning_data, max_num_tuning_data, id_mappings, time_limit, save_path, hyperparameters, column_types, holdout_frac, teacher_predictor, seed, standalone, hyperparameter_tune_kwargs, clean_ckpts)\u001b[0m\n\u001b[1;32m    744\u001b[0m \u001b[38;5;28mself\u001b[39m\u001b[38;5;241m.\u001b[39m_save_path \u001b[38;5;241m=\u001b[39m setup_save_path(\n\u001b[1;32m    745\u001b[0m     resume\u001b[38;5;241m=\u001b[39m\u001b[38;5;28mself\u001b[39m\u001b[38;5;241m.\u001b[39m_resume,\n\u001b[1;32m    746\u001b[0m     old_save_path\u001b[38;5;241m=\u001b[39m\u001b[38;5;28mself\u001b[39m\u001b[38;5;241m.\u001b[39m_save_path,\n\u001b[0;32m   (...)\u001b[0m\n\u001b[1;32m    750\u001b[0m     fit_called\u001b[38;5;241m=\u001b[39mfit_called,\n\u001b[1;32m    751\u001b[0m )\n\u001b[1;32m    753\u001b[0m \u001b[38;5;28;01mif\u001b[39;00m tuning_data \u001b[38;5;129;01mis\u001b[39;00m \u001b[38;5;28;01mNone\u001b[39;00m:\n\u001b[0;32m--> 754\u001b[0m     train_data, tuning_data \u001b[38;5;241m=\u001b[39m \u001b[38;5;28;43mself\u001b[39;49m\u001b[38;5;241;43m.\u001b[39;49m\u001b[43m_split_train_tuning\u001b[49m\u001b[43m(\u001b[49m\n\u001b[1;32m    755\u001b[0m \u001b[43m        \u001b[49m\u001b[43mdata\u001b[49m\u001b[38;5;241;43m=\u001b[39;49m\u001b[43mtrain_data\u001b[49m\u001b[43m,\u001b[49m\u001b[43m \u001b[49m\u001b[43mholdout_frac\u001b[49m\u001b[38;5;241;43m=\u001b[39;49m\u001b[43mholdout_frac\u001b[49m\u001b[43m,\u001b[49m\u001b[43m \u001b[49m\u001b[43mrandom_state\u001b[49m\u001b[38;5;241;43m=\u001b[39;49m\u001b[43mseed\u001b[49m\n\u001b[1;32m    756\u001b[0m \u001b[43m    \u001b[49m\u001b[43m)\u001b[49m\n\u001b[1;32m    758\u001b[0m \u001b[38;5;28;01mif\u001b[39;00m \u001b[38;5;28mself\u001b[39m\u001b[38;5;241m.\u001b[39m_label_column:\n\u001b[1;32m    759\u001b[0m     \u001b[38;5;28mself\u001b[39m\u001b[38;5;241m.\u001b[39m_problem_type \u001b[38;5;241m=\u001b[39m infer_problem_type(\n\u001b[1;32m    760\u001b[0m         y_train_data\u001b[38;5;241m=\u001b[39mtrain_data[\u001b[38;5;28mself\u001b[39m\u001b[38;5;241m.\u001b[39m_label_column],\n\u001b[1;32m    761\u001b[0m         provided_problem_type\u001b[38;5;241m=\u001b[39m\u001b[38;5;28mself\u001b[39m\u001b[38;5;241m.\u001b[39m_problem_type,\n\u001b[1;32m    762\u001b[0m     )\n",
      "File \u001b[0;32m~/Desktop/Work/autogluon/multimodal/src/autogluon/multimodal/predictor.py:932\u001b[0m, in \u001b[0;36mMultiModalPredictor._split_train_tuning\u001b[0;34m(self, data, holdout_frac, random_state)\u001b[0m\n\u001b[1;32m    929\u001b[0m \u001b[38;5;28;01melse\u001b[39;00m:\n\u001b[1;32m    930\u001b[0m     problem_type_for_split \u001b[38;5;241m=\u001b[39m REGRESSION\n\u001b[0;32m--> 932\u001b[0m train_data, tuning_data \u001b[38;5;241m=\u001b[39m \u001b[43mgenerate_train_test_split_combined\u001b[49m\u001b[43m(\u001b[49m\n\u001b[1;32m    933\u001b[0m \u001b[43m    \u001b[49m\u001b[43mdata\u001b[49m\u001b[38;5;241;43m=\u001b[39;49m\u001b[43mdata\u001b[49m\u001b[43m,\u001b[49m\n\u001b[1;32m    934\u001b[0m \u001b[43m    \u001b[49m\u001b[43mlabel\u001b[49m\u001b[38;5;241;43m=\u001b[39;49m\u001b[38;5;28;43mself\u001b[39;49m\u001b[38;5;241;43m.\u001b[39;49m\u001b[43mlabel\u001b[49m\u001b[43m,\u001b[49m\n\u001b[1;32m    935\u001b[0m \u001b[43m    \u001b[49m\u001b[43mtest_size\u001b[49m\u001b[38;5;241;43m=\u001b[39;49m\u001b[43mholdout_frac\u001b[49m\u001b[43m,\u001b[49m\n\u001b[1;32m    936\u001b[0m \u001b[43m    \u001b[49m\u001b[43mproblem_type\u001b[49m\u001b[38;5;241;43m=\u001b[39;49m\u001b[43mproblem_type_for_split\u001b[49m\u001b[43m,\u001b[49m\n\u001b[1;32m    937\u001b[0m \u001b[43m    \u001b[49m\u001b[43mrandom_state\u001b[49m\u001b[38;5;241;43m=\u001b[39;49m\u001b[43mrandom_state\u001b[49m\u001b[43m,\u001b[49m\n\u001b[1;32m    938\u001b[0m \u001b[43m\u001b[49m\u001b[43m)\u001b[49m\n\u001b[1;32m    939\u001b[0m \u001b[38;5;28;01mreturn\u001b[39;00m train_data, tuning_data\n",
      "File \u001b[0;32m~/Desktop/Work/autogluon/core/src/autogluon/core/utils/utils.py:393\u001b[0m, in \u001b[0;36mgenerate_train_test_split_combined\u001b[0;34m(data, label, problem_type, test_size, random_state, min_cls_count_train)\u001b[0m\n\u001b[1;32m    361\u001b[0m \u001b[38;5;28;01mdef\u001b[39;00m \u001b[38;5;21mgenerate_train_test_split_combined\u001b[39m(\n\u001b[1;32m    362\u001b[0m     data: DataFrame, label: \u001b[38;5;28mstr\u001b[39m, problem_type: \u001b[38;5;28mstr\u001b[39m, test_size: \u001b[38;5;28mfloat\u001b[39m \u001b[38;5;241m=\u001b[39m \u001b[38;5;241m0.1\u001b[39m, random_state: \u001b[38;5;28mint\u001b[39m \u001b[38;5;241m=\u001b[39m \u001b[38;5;241m0\u001b[39m, min_cls_count_train: \u001b[38;5;28mint\u001b[39m \u001b[38;5;241m=\u001b[39m \u001b[38;5;241m1\u001b[39m\n\u001b[1;32m    363\u001b[0m ) \u001b[38;5;241m-\u001b[39m\u001b[38;5;241m>\u001b[39m (DataFrame, DataFrame):\n\u001b[1;32m    364\u001b[0m \u001b[38;5;250m    \u001b[39m\u001b[38;5;124;03m\"\"\"\u001b[39;00m\n\u001b[1;32m    365\u001b[0m \u001b[38;5;124;03m    Generate a train test split from a DataFrame that contains the label column.\u001b[39;00m\n\u001b[1;32m    366\u001b[0m \n\u001b[0;32m   (...)\u001b[0m\n\u001b[1;32m    391\u001b[0m \u001b[38;5;124;03m        The train_data and test_data after performing the split. Includes the label column.\u001b[39;00m\n\u001b[1;32m    392\u001b[0m \u001b[38;5;124;03m    \"\"\"\u001b[39;00m\n\u001b[0;32m--> 393\u001b[0m     X, y \u001b[38;5;241m=\u001b[39m \u001b[43mextract_label\u001b[49m\u001b[43m(\u001b[49m\u001b[43mdata\u001b[49m\u001b[38;5;241;43m=\u001b[39;49m\u001b[43mdata\u001b[49m\u001b[43m,\u001b[49m\u001b[43m \u001b[49m\u001b[43mlabel\u001b[49m\u001b[38;5;241;43m=\u001b[39;49m\u001b[43mlabel\u001b[49m\u001b[43m)\u001b[49m\n\u001b[1;32m    394\u001b[0m     train_data, test_data, y_train, y_test \u001b[38;5;241m=\u001b[39m generate_train_test_split(\n\u001b[1;32m    395\u001b[0m         X\u001b[38;5;241m=\u001b[39mX, y\u001b[38;5;241m=\u001b[39my, problem_type\u001b[38;5;241m=\u001b[39mproblem_type, test_size\u001b[38;5;241m=\u001b[39mtest_size, random_state\u001b[38;5;241m=\u001b[39mrandom_state, min_cls_count_train\u001b[38;5;241m=\u001b[39mmin_cls_count_train\n\u001b[1;32m    396\u001b[0m     )\n\u001b[1;32m    397\u001b[0m     train_data[label] \u001b[38;5;241m=\u001b[39m y_train\n",
      "File \u001b[0;32m~/Desktop/Work/autogluon/core/src/autogluon/core/utils/utils.py:355\u001b[0m, in \u001b[0;36mextract_label\u001b[0;34m(data, label)\u001b[0m\n\u001b[1;32m    338\u001b[0m \u001b[38;5;250m\u001b[39m\u001b[38;5;124;03m\"\"\"\u001b[39;00m\n\u001b[1;32m    339\u001b[0m \u001b[38;5;124;03mExtract the label column from a dataset and return X, y.\u001b[39;00m\n\u001b[1;32m    340\u001b[0m \n\u001b[0;32m   (...)\u001b[0m\n\u001b[1;32m    352\u001b[0m \u001b[38;5;124;03m    y is the label column as a pd.Series.\u001b[39;00m\n\u001b[1;32m    353\u001b[0m \u001b[38;5;124;03m\"\"\"\u001b[39;00m\n\u001b[1;32m    354\u001b[0m \u001b[38;5;28;01mif\u001b[39;00m label \u001b[38;5;129;01mnot\u001b[39;00m \u001b[38;5;129;01min\u001b[39;00m \u001b[38;5;28mlist\u001b[39m(data\u001b[38;5;241m.\u001b[39mcolumns):\n\u001b[0;32m--> 355\u001b[0m     \u001b[38;5;28;01mraise\u001b[39;00m \u001b[38;5;167;01mValueError\u001b[39;00m(\u001b[38;5;124mf\u001b[39m\u001b[38;5;124m\"\u001b[39m\u001b[38;5;124mProvided DataFrame does not contain label column: \u001b[39m\u001b[38;5;132;01m{\u001b[39;00mlabel\u001b[38;5;132;01m}\u001b[39;00m\u001b[38;5;124m\"\u001b[39m)\n\u001b[1;32m    356\u001b[0m y \u001b[38;5;241m=\u001b[39m data[label]\u001b[38;5;241m.\u001b[39mcopy()\n\u001b[1;32m    357\u001b[0m X \u001b[38;5;241m=\u001b[39m data\u001b[38;5;241m.\u001b[39mdrop(label, axis\u001b[38;5;241m=\u001b[39m\u001b[38;5;241m1\u001b[39m)\n",
      "\u001b[0;31mValueError\u001b[0m: Provided DataFrame does not contain label column: ['education-num', 'education', 'class']"
     ]
    }
   ],
   "source": []
  },
  {
   "cell_type": "code",
   "execution_count": null,
   "id": "a235e829-9cb0-46fd-940b-18365e09de74",
   "metadata": {},
   "outputs": [],
   "source": []
  }
 ],
 "metadata": {
  "kernelspec": {
   "display_name": "Python 3 (ipykernel)",
   "language": "python",
   "name": "python3"
  },
  "language_info": {
   "codemirror_mode": {
    "name": "ipython",
    "version": 3
   },
   "file_extension": ".py",
   "mimetype": "text/x-python",
   "name": "python",
   "nbconvert_exporter": "python",
   "pygments_lexer": "ipython3",
   "version": "3.10.0"
  }
 },
 "nbformat": 4,
 "nbformat_minor": 5
}
